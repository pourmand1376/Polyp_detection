{
  "cells": [
    {
      "cell_type": "markdown",
      "metadata": {
        "id": "view-in-github",
        "colab_type": "text"
      },
      "source": [
        "<a href=\"https://colab.research.google.com/github/pourmand1376/Polyp_detection/blob/main/YOLOv3_coco.ipynb\" target=\"_parent\"><img src=\"https://colab.research.google.com/assets/colab-badge.svg\" alt=\"Open In Colab\"/></a>"
      ]
    },
    {
      "cell_type": "code",
      "execution_count": 1,
      "metadata": {
        "colab": {
          "base_uri": "https://localhost:8080/"
        },
        "id": "Wk15xkaDNCZJ",
        "outputId": "e9b82c09-c784-4bcf-8f2f-9cf57290466e"
      },
      "outputs": [
        {
          "output_type": "stream",
          "name": "stdout",
          "text": [
            "Sat May 28 13:42:45 2022       \n",
            "+-----------------------------------------------------------------------------+\n",
            "| NVIDIA-SMI 460.32.03    Driver Version: 460.32.03    CUDA Version: 11.2     |\n",
            "|-------------------------------+----------------------+----------------------+\n",
            "| GPU  Name        Persistence-M| Bus-Id        Disp.A | Volatile Uncorr. ECC |\n",
            "| Fan  Temp  Perf  Pwr:Usage/Cap|         Memory-Usage | GPU-Util  Compute M. |\n",
            "|                               |                      |               MIG M. |\n",
            "|===============================+======================+======================|\n",
            "|   0  Tesla P100-PCIE...  Off  | 00000000:00:04.0 Off |                    0 |\n",
            "| N/A   34C    P0    27W / 250W |      0MiB / 16280MiB |      0%      Default |\n",
            "|                               |                      |                  N/A |\n",
            "+-------------------------------+----------------------+----------------------+\n",
            "                                                                               \n",
            "+-----------------------------------------------------------------------------+\n",
            "| Processes:                                                                  |\n",
            "|  GPU   GI   CI        PID   Type   Process name                  GPU Memory |\n",
            "|        ID   ID                                                   Usage      |\n",
            "|=============================================================================|\n",
            "|  No running processes found                                                 |\n",
            "+-----------------------------------------------------------------------------+\n"
          ]
        }
      ],
      "source": [
        "!nvidia-smi"
      ]
    },
    {
      "cell_type": "code",
      "execution_count": null,
      "metadata": {
        "colab": {
          "base_uri": "https://localhost:8080/"
        },
        "id": "g9eVdbhdE-va",
        "outputId": "5c1f6004-c60a-4a60-a731-c3e59ddbd0bb"
      },
      "outputs": [
        {
          "output_type": "stream",
          "name": "stdout",
          "text": [
            "\u001b[K     |████████████████████████████████| 195 kB 7.0 MB/s \n",
            "\u001b[K     |████████████████████████████████| 8.8 MB 65.6 MB/s \n",
            "\u001b[K     |████████████████████████████████| 77 kB 8.0 MB/s \n",
            "\u001b[K     |████████████████████████████████| 138 kB 74.5 MB/s \n",
            "\u001b[K     |████████████████████████████████| 54 kB 3.3 MB/s \n",
            "\u001b[K     |████████████████████████████████| 536 kB 72.5 MB/s \n",
            "\u001b[K     |████████████████████████████████| 40 kB 6.6 MB/s \n",
            "\u001b[K     |████████████████████████████████| 48 kB 6.4 MB/s \n",
            "\u001b[K     |████████████████████████████████| 63 kB 2.0 MB/s \n",
            "\u001b[K     |████████████████████████████████| 4.0 MB 51.4 MB/s \n",
            "\u001b[K     |████████████████████████████████| 461 kB 59.2 MB/s \n",
            "\u001b[31mERROR: pip's dependency resolver does not currently take into account all the packages that are installed. This behaviour is the source of the following dependency conflicts.\n",
            "google-colab 1.0.0 requires requests~=2.23.0, but you have requests 2.27.1 which is incompatible.\n",
            "datascience 0.10.6 requires folium==0.2.1, but you have folium 0.8.3 which is incompatible.\u001b[0m\n",
            "\u001b[?25h\u001b[39;1mPoetry\u001b[39;22m (version \u001b[36m1.2.0b1\u001b[39m)\n"
          ]
        }
      ],
      "source": [
        "!pip install -q --pre poetry\n",
        "!poetry --version"
      ]
    },
    {
      "cell_type": "code",
      "execution_count": null,
      "metadata": {
        "colab": {
          "base_uri": "https://localhost:8080/"
        },
        "id": "HOVBY3x8FZFI",
        "outputId": "60ce72a4-2d01-4596-f508-93992d1eefe2"
      },
      "outputs": [
        {
          "output_type": "stream",
          "name": "stdout",
          "text": [
            "Cloning into 'PyTorch-YOLOv3'...\n",
            "remote: Enumerating objects: 1837, done.\u001b[K\n",
            "remote: Total 1837 (delta 0), reused 0 (delta 0), pack-reused 1837\u001b[K\n",
            "Receiving objects: 100% (1837/1837), 16.51 MiB | 31.43 MiB/s, done.\n",
            "Resolving deltas: 100% (1102/1102), done.\n"
          ]
        }
      ],
      "source": [
        "!git clone https://github.com/eriklindernoren/PyTorch-YOLOv3\n"
      ]
    },
    {
      "cell_type": "code",
      "execution_count": null,
      "metadata": {
        "colab": {
          "base_uri": "https://localhost:8080/"
        },
        "id": "vouMknTwF-Km",
        "outputId": "65ca60fe-b8cf-430a-f25e-3b2bfbcb240c"
      },
      "outputs": [
        {
          "output_type": "stream",
          "name": "stdout",
          "text": [
            "/content/PyTorch-YOLOv3\n"
          ]
        }
      ],
      "source": [
        "cd PyTorch-YOLOv3/"
      ]
    },
    {
      "cell_type": "code",
      "execution_count": null,
      "metadata": {
        "id": "E5J8D6sBF3ZB"
      },
      "outputs": [],
      "source": [
        "%%bash\n",
        "cd weights\n",
        "./download_weights.sh"
      ]
    },
    {
      "cell_type": "code",
      "execution_count": null,
      "metadata": {
        "colab": {
          "base_uri": "https://localhost:8080/"
        },
        "id": "RQslJ3KFF5k9",
        "outputId": "de820bab-dbed-4812-a966-aa612b2d1acd"
      },
      "outputs": [
        {
          "output_type": "stream",
          "name": "stderr",
          "text": [
            "IOPub data rate exceeded.\n",
            "The notebook server will temporarily stop sending output\n",
            "to the client in order to avoid crashing it.\n",
            "To change this limit, set the config variable\n",
            "`--NotebookApp.iopub_data_rate_limit`.\n",
            "\n",
            "Current values:\n",
            "NotebookApp.iopub_data_rate_limit=1000000.0 (bytes/sec)\n",
            "NotebookApp.rate_limit_window=3.0 (secs)\n",
            "\n"
          ]
        }
      ],
      "source": [
        "%%bash\n",
        "cd data\n",
        "./get_coco_dataset.sh"
      ]
    },
    {
      "cell_type": "code",
      "execution_count": null,
      "metadata": {
        "id": "pGHn96gFJM2E",
        "colab": {
          "base_uri": "https://localhost:8080/"
        },
        "outputId": "7acb7e59-c846-4d03-d6c9-5b81c7f2a3ca"
      },
      "outputs": [
        {
          "output_type": "stream",
          "name": "stdout",
          "text": [
            "\u001b[K     |████████████████████████████████| 42 kB 628 kB/s \n",
            "\u001b[K     |████████████████████████████████| 3.1 MB 11.6 MB/s \n",
            "\u001b[K     |████████████████████████████████| 11.2 MB 48.9 MB/s \n",
            "\u001b[K     |████████████████████████████████| 948 kB 58.1 MB/s \n",
            "\u001b[K     |████████████████████████████████| 930 kB 58.5 MB/s \n",
            "\u001b[33m  WARNING: The scripts fonttools, pyftmerge, pyftsubset and ttx are installed in '/root/.local/bin' which is not on PATH.\n",
            "  Consider adding this directory to PATH or, if you prefer to suppress this warning, use --no-warn-script-location.\u001b[0m\n",
            "\u001b[33m  WARNING: The scripts yolo-detect, yolo-test and yolo-train are installed in '/root/.local/bin' which is not on PATH.\n",
            "  Consider adding this directory to PATH or, if you prefer to suppress this warning, use --no-warn-script-location.\u001b[0m\n",
            "\u001b[31mERROR: pip's dependency resolver does not currently take into account all the packages that are installed. This behaviour is the source of the following dependency conflicts.\n",
            "albumentations 0.1.12 requires imgaug<0.2.7,>=0.2.5, but you have imgaug 0.4.0 which is incompatible.\u001b[0m\n",
            "\u001b[?25h"
          ]
        }
      ],
      "source": [
        "!pip3 install pytorchyolo --user -Uq"
      ]
    },
    {
      "cell_type": "code",
      "execution_count": null,
      "metadata": {
        "id": "xRnyAhhpJUs5"
      },
      "outputs": [],
      "source": [
        "!pip install tqdm -Uq"
      ]
    },
    {
      "cell_type": "code",
      "execution_count": 11,
      "metadata": {
        "colab": {
          "base_uri": "https://localhost:8080/"
        },
        "id": "S9pjLv0AM3je",
        "outputId": "d06cf026-8dbe-4add-ed20-9f16d7004aff"
      },
      "outputs": [
        {
          "output_type": "stream",
          "name": "stdout",
          "text": [
            "Environment information:\n",
            "System: Linux 5.4.188+\n",
            "Not using the poetry package\n",
            "Current Commit Hash: 3f7f04b\n",
            "Command line arguments: Namespace(checkpoint_interval=1, conf_thres=0.1, data='config/coco.data', epochs=300, evaluation_interval=1, iou_thres=0.5, logdir='logs', model='config/yolov3.cfg', multiscale_training=False, n_cpu=8, nms_thres=0.5, pretrained_weights=None, seed=-1, verbose=False)\n",
            "Traceback (most recent call last):\n",
            "  File \"pytorchyolo/train.py\", line 259, in <module>\n",
            "    run()\n",
            "  File \"pytorchyolo/train.py\", line 118, in run\n",
            "    args.multiscale_training)\n",
            "  File \"pytorchyolo/train.py\", line 48, in _create_data_loader\n",
            "    transform=AUGMENTATION_TRANSFORMS)\n",
            "  File \"/root/.local/lib/python3.7/site-packages/pytorchyolo/utils/datasets.py\", line 70, in __init__\n",
            "    label_file = os.path.splitext(label_file)[0] + '.txt'\n",
            "KeyboardInterrupt\n"
          ]
        }
      ],
      "source": [
        "!pytorchyolo/train.py"
      ]
    },
    {
      "cell_type": "code",
      "source": [
        "!pytorchyolo/test.py --weights /content/PyTorch-YOLOv3/weights/yolov3.weights"
      ],
      "metadata": {
        "id": "C7iE4bUblCko"
      },
      "execution_count": null,
      "outputs": []
    },
    {
      "cell_type": "code",
      "execution_count": null,
      "metadata": {
        "id": "Ho4b4g6_JhX8"
      },
      "outputs": [],
      "source": [
        ""
      ]
    }
  ],
  "metadata": {
    "colab": {
      "name": "YOLOv3_coco.ipynb",
      "provenance": [],
      "authorship_tag": "ABX9TyObh8bFYwud+8W64fpc2C6V",
      "include_colab_link": true
    },
    "kernelspec": {
      "display_name": "Python 3",
      "name": "python3"
    },
    "language_info": {
      "name": "python"
    }
  },
  "nbformat": 4,
  "nbformat_minor": 0
}