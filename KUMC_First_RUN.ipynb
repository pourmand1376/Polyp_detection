{
  "nbformat": 4,
  "nbformat_minor": 0,
  "metadata": {
    "colab": {
      "name": "KUMC_First_RUN.ipynb",
      "provenance": [],
      "collapsed_sections": [],
      "include_colab_link": true
    },
    "kernelspec": {
      "name": "python3",
      "display_name": "Python 3"
    },
    "language_info": {
      "name": "python"
    },
    "accelerator": "GPU"
  },
  "cells": [
    {
      "cell_type": "markdown",
      "metadata": {
        "id": "view-in-github",
        "colab_type": "text"
      },
      "source": [
        "<a href=\"https://colab.research.google.com/github/pourmand1376/Polyp_detection/blob/main/KUMC_First_RUN.ipynb\" target=\"_parent\"><img src=\"https://colab.research.google.com/assets/colab-badge.svg\" alt=\"Open In Colab\"/></a>"
      ]
    },
    {
      "cell_type": "markdown",
      "source": [
        "## Download Dataset and preprocess that"
      ],
      "metadata": {
        "id": "-_83IDqOAO97"
      }
    },
    {
      "cell_type": "code",
      "execution_count": 1,
      "metadata": {
        "colab": {
          "base_uri": "https://localhost:8080/"
        },
        "id": "pt8uO5r4BKMJ",
        "outputId": "76289cdc-cef8-4b0d-da20-795e51e199a7"
      },
      "outputs": [
        {
          "output_type": "stream",
          "name": "stderr",
          "text": [
            "Downloading...\n",
            "From: https://drive.google.com/uc?id=1HPx_GYIl0ZwDxhBUwUiGLkR0T41LS2mj\n",
            "To: /content/PolypsSet_KUMC.tar.gz\n",
            "\r  0%|          | 0.00/2.47G [00:00<?, ?B/s]\r  0%|          | 4.72M/2.47G [00:00<04:10, 9.83MB/s]\r  1%|▏         | 34.1M/2.47G [00:01<01:11, 34.1MB/s]\r  3%|▎         | 67.6M/2.47G [00:01<00:44, 54.1MB/s]\r  3%|▎         | 76.0M/2.47G [00:01<00:43, 55.5MB/s]\r  4%|▍         | 95.4M/2.47G [00:01<00:31, 75.1MB/s]\r  4%|▍         | 106M/2.47G [00:01<00:35, 66.9MB/s] \r  5%|▍         | 118M/2.47G [00:02<00:31, 74.2MB/s]\r  5%|▌         | 130M/2.47G [00:02<00:28, 82.9MB/s]\r  6%|▌         | 141M/2.47G [00:02<00:29, 79.0MB/s]\r  6%|▌         | 150M/2.47G [00:02<00:30, 75.0MB/s]\r  6%|▋         | 158M/2.47G [00:02<00:30, 75.1MB/s]\r  7%|▋         | 168M/2.47G [00:02<00:29, 79.0MB/s]\r  7%|▋         | 177M/2.47G [00:02<00:31, 73.4MB/s]\r  8%|▊         | 185M/2.47G [00:02<00:32, 70.6MB/s]\r  8%|▊         | 202M/2.47G [00:03<00:28, 80.7MB/s]\r  9%|▊         | 210M/2.47G [00:03<00:31, 71.8MB/s]\r  9%|▉         | 219M/2.47G [00:03<00:31, 71.4MB/s]\r  9%|▉         | 227M/2.47G [00:03<00:34, 64.0MB/s]\r 10%|▉         | 244M/2.47G [00:03<00:35, 61.9MB/s]\r 11%|█         | 260M/2.47G [00:03<00:27, 80.1MB/s]\r 11%|█         | 269M/2.47G [00:04<00:31, 70.9MB/s]\r 11%|█▏        | 278M/2.47G [00:04<00:32, 67.2MB/s]\r 12%|█▏        | 286M/2.47G [00:04<00:32, 68.1MB/s]\r 12%|█▏        | 295M/2.47G [00:04<00:30, 72.0MB/s]\r 12%|█▏        | 303M/2.47G [00:04<00:36, 59.6MB/s]\r 13%|█▎        | 319M/2.47G [00:04<00:32, 65.4MB/s]\r 13%|█▎        | 328M/2.47G [00:05<00:38, 55.7MB/s]\r 14%|█▍        | 344M/2.47G [00:05<00:34, 62.4MB/s]\r 14%|█▍        | 356M/2.47G [00:05<00:29, 71.7MB/s]\r 15%|█▍        | 364M/2.47G [00:05<00:33, 63.5MB/s]\r 15%|█▌        | 372M/2.47G [00:05<00:38, 54.9MB/s]\r 16%|█▌        | 386M/2.47G [00:06<00:37, 55.8MB/s]\r 16%|█▋        | 403M/2.47G [00:06<00:32, 63.6MB/s]\r 17%|█▋        | 420M/2.47G [00:06<00:29, 69.2MB/s]\r 18%|█▊        | 437M/2.47G [00:06<00:26, 75.4MB/s]\r 18%|█▊        | 445M/2.47G [00:06<00:29, 68.7MB/s]\r 19%|█▉        | 470M/2.47G [00:07<00:27, 72.0MB/s]\r 19%|█▉        | 479M/2.47G [00:07<00:34, 57.1MB/s]\r 20%|██        | 504M/2.47G [00:07<00:26, 72.9MB/s]\r 21%|██        | 512M/2.47G [00:07<00:31, 61.7MB/s]\r 21%|██        | 521M/2.47G [00:08<00:33, 57.8MB/s]\r 22%|██▏       | 537M/2.47G [00:08<00:26, 72.1MB/s]\r 22%|██▏       | 554M/2.47G [00:08<00:27, 69.3MB/s]\r 23%|██▎       | 563M/2.47G [00:08<00:28, 66.9MB/s]\r 23%|██▎       | 571M/2.47G [00:08<00:27, 68.1MB/s]\r 24%|██▍       | 588M/2.47G [00:09<00:28, 66.2MB/s]\r 24%|██▍       | 596M/2.47G [00:09<00:29, 64.4MB/s]\r 25%|██▌       | 621M/2.47G [00:09<00:24, 75.6MB/s]\r 26%|██▌       | 638M/2.47G [00:09<00:24, 75.8MB/s]\r 27%|██▋       | 655M/2.47G [00:09<00:21, 83.8MB/s]\r 27%|██▋       | 664M/2.47G [00:09<00:23, 77.1MB/s]\r 27%|██▋       | 677M/2.47G [00:10<00:20, 88.2MB/s]\r 28%|██▊       | 687M/2.47G [00:10<00:23, 75.8MB/s]\r 28%|██▊       | 695M/2.47G [00:10<00:25, 69.6MB/s]\r 29%|██▊       | 707M/2.47G [00:10<00:22, 80.0MB/s]\r 29%|██▉       | 716M/2.47G [00:11<00:42, 41.2MB/s]\r 30%|███       | 744M/2.47G [00:11<00:22, 75.1MB/s]\r 31%|███       | 758M/2.47G [00:11<00:26, 65.5MB/s]\r 31%|███       | 769M/2.47G [00:11<00:23, 72.3MB/s]\r 32%|███▏      | 781M/2.47G [00:11<00:23, 72.0MB/s]\r 32%|███▏      | 791M/2.47G [00:11<00:23, 72.1MB/s]\r 33%|███▎      | 804M/2.47G [00:11<00:19, 84.7MB/s]\r 33%|███▎      | 815M/2.47G [00:12<00:28, 57.6MB/s]\r 34%|███▎      | 831M/2.47G [00:12<00:22, 72.5MB/s]\r 34%|███▍      | 841M/2.47G [00:12<00:37, 43.2MB/s]\r 35%|███▌      | 871M/2.47G [00:12<00:20, 77.2MB/s]\r 36%|███▌      | 886M/2.47G [00:13<00:26, 60.1MB/s]\r 37%|███▋      | 906M/2.47G [00:13<00:32, 48.4MB/s]\r 38%|███▊      | 940M/2.47G [00:14<00:25, 59.5MB/s]\r 38%|███▊      | 949M/2.47G [00:14<00:24, 62.4MB/s]\r 39%|███▉      | 965M/2.47G [00:14<00:20, 74.2MB/s]\r 40%|███▉      | 976M/2.47G [00:15<00:27, 54.0MB/s]\r 40%|████      | 999M/2.47G [00:15<00:22, 65.5MB/s]\r 41%|████      | 1.01G/2.47G [00:15<00:23, 62.6MB/s]\r 41%|████▏     | 1.02G/2.47G [00:15<00:20, 70.4MB/s]\r 42%|████▏     | 1.04G/2.47G [00:15<00:18, 78.8MB/s]\r 42%|████▏     | 1.05G/2.47G [00:15<00:19, 74.2MB/s]\r 43%|████▎     | 1.06G/2.47G [00:16<00:20, 68.5MB/s]\r 43%|████▎     | 1.07G/2.47G [00:16<00:18, 75.1MB/s]\r 44%|████▎     | 1.08G/2.47G [00:16<00:26, 53.4MB/s]\r 44%|████▍     | 1.08G/2.47G [00:16<00:26, 52.5MB/s]\r 45%|████▍     | 1.10G/2.47G [00:16<00:21, 64.5MB/s]\r 45%|████▍     | 1.11G/2.47G [00:16<00:22, 60.8MB/s]\r 45%|████▌     | 1.12G/2.47G [00:17<00:18, 74.6MB/s]\r 46%|████▌     | 1.13G/2.47G [00:17<00:19, 66.8MB/s]\r 46%|████▋     | 1.14G/2.47G [00:17<00:23, 56.8MB/s]\r 47%|████▋     | 1.16G/2.47G [00:17<00:21, 61.4MB/s]\r 48%|████▊     | 1.17G/2.47G [00:17<00:17, 72.8MB/s]\r 48%|████▊     | 1.18G/2.47G [00:17<00:17, 72.6MB/s]\r 48%|████▊     | 1.19G/2.47G [00:18<00:18, 70.0MB/s]\r 49%|████▊     | 1.20G/2.47G [00:18<00:16, 76.3MB/s]\r 49%|████▉     | 1.21G/2.47G [00:18<00:17, 71.7MB/s]\r 49%|████▉     | 1.22G/2.47G [00:18<00:16, 76.6MB/s]\r 50%|████▉     | 1.23G/2.47G [00:18<00:30, 40.2MB/s]\r 51%|█████     | 1.25G/2.47G [00:19<00:19, 62.2MB/s]\r 51%|█████     | 1.26G/2.47G [00:19<00:23, 52.0MB/s]\r 52%|█████▏    | 1.28G/2.47G [00:19<00:21, 54.6MB/s]\r 52%|█████▏    | 1.29G/2.47G [00:19<00:19, 59.7MB/s]\r 53%|█████▎    | 1.30G/2.47G [00:19<00:18, 63.3MB/s]\r 53%|█████▎    | 1.31G/2.47G [00:20<00:21, 53.3MB/s]\r 54%|█████▎    | 1.33G/2.47G [00:20<00:19, 58.9MB/s]\r 54%|█████▍    | 1.34G/2.47G [00:20<00:19, 58.7MB/s]\r 55%|█████▌    | 1.36G/2.47G [00:21<00:18, 59.0MB/s]\r 55%|█████▌    | 1.37G/2.47G [00:21<00:22, 49.4MB/s]\r 56%|█████▌    | 1.38G/2.47G [00:21<00:21, 49.5MB/s]\r 57%|█████▋    | 1.40G/2.47G [00:21<00:17, 59.4MB/s]\r 57%|█████▋    | 1.42G/2.47G [00:22<00:17, 58.6MB/s]\r 58%|█████▊    | 1.43G/2.47G [00:22<00:21, 49.3MB/s]\r 58%|█████▊    | 1.44G/2.47G [00:22<00:19, 51.9MB/s]\r 59%|█████▉    | 1.46G/2.47G [00:22<00:18, 54.1MB/s]\r 60%|█████▉    | 1.48G/2.47G [00:23<00:18, 53.1MB/s]\r 60%|██████    | 1.49G/2.47G [00:23<00:22, 44.5MB/s]\r 61%|██████    | 1.51G/2.47G [00:23<00:16, 57.1MB/s]\r 62%|██████▏   | 1.52G/2.47G [00:24<00:20, 47.2MB/s]\r 62%|██████▏   | 1.54G/2.47G [00:24<00:19, 48.6MB/s]\r 63%|██████▎   | 1.54G/2.47G [00:24<00:21, 42.4MB/s]\r 63%|██████▎   | 1.56G/2.47G [00:25<00:19, 45.9MB/s]\r 64%|██████▍   | 1.58G/2.47G [00:25<00:18, 48.4MB/s]\r 65%|██████▍   | 1.59G/2.47G [00:25<00:17, 49.9MB/s]\r 65%|██████▌   | 1.62G/2.47G [00:25<00:12, 69.2MB/s]\r 66%|██████▌   | 1.63G/2.47G [00:26<00:15, 52.6MB/s]\r 67%|██████▋   | 1.65G/2.47G [00:26<00:11, 70.6MB/s]\r 67%|██████▋   | 1.66G/2.47G [00:26<00:10, 74.4MB/s]\r 68%|██████▊   | 1.67G/2.47G [00:26<00:15, 50.7MB/s]\r 69%|██████▊   | 1.70G/2.47G [00:27<00:16, 47.9MB/s]\r 70%|██████▉   | 1.72G/2.47G [00:27<00:11, 67.8MB/s]\r 70%|███████   | 1.73G/2.47G [00:28<00:16, 45.7MB/s]\r 71%|███████▏  | 1.76G/2.47G [00:28<00:12, 58.5MB/s]\r 72%|███████▏  | 1.78G/2.47G [00:28<00:10, 66.0MB/s]\r 73%|███████▎  | 1.79G/2.47G [00:28<00:09, 70.1MB/s]\r 73%|███████▎  | 1.80G/2.47G [00:29<00:10, 65.3MB/s]\r 73%|███████▎  | 1.81G/2.47G [00:29<00:10, 63.8MB/s]\r 74%|███████▍  | 1.83G/2.47G [00:29<00:08, 72.1MB/s]\r 74%|███████▍  | 1.84G/2.47G [00:29<00:08, 72.1MB/s]\r 75%|███████▍  | 1.85G/2.47G [00:29<00:08, 73.4MB/s]\r 75%|███████▌  | 1.86G/2.47G [00:29<00:08, 74.3MB/s]\r 76%|███████▌  | 1.88G/2.47G [00:30<00:07, 77.9MB/s]\r 77%|███████▋  | 1.90G/2.47G [00:30<00:08, 65.1MB/s]\r 78%|███████▊  | 1.92G/2.47G [00:30<00:05, 92.9MB/s]\r 78%|███████▊  | 1.93G/2.47G [00:30<00:07, 72.7MB/s]\r 79%|███████▉  | 1.95G/2.47G [00:30<00:06, 81.3MB/s]\r 79%|███████▉  | 1.96G/2.47G [00:31<00:05, 85.2MB/s]\r 80%|███████▉  | 1.97G/2.47G [00:31<00:07, 68.3MB/s]\r 81%|████████  | 1.99G/2.47G [00:31<00:05, 91.4MB/s]\r 81%|████████  | 2.00G/2.47G [00:31<00:06, 74.8MB/s]\r 82%|████████▏ | 2.01G/2.47G [00:31<00:06, 68.9MB/s]\r 82%|████████▏ | 2.03G/2.47G [00:31<00:05, 82.2MB/s]\r 83%|████████▎ | 2.04G/2.47G [00:32<00:06, 62.3MB/s]\r 83%|████████▎ | 2.05G/2.47G [00:32<00:08, 50.1MB/s]\r 83%|████████▎ | 2.06G/2.47G [00:32<00:06, 61.8MB/s]\r 84%|████████▍ | 2.07G/2.47G [00:32<00:07, 54.5MB/s]\r 84%|████████▍ | 2.08G/2.47G [00:33<00:06, 58.6MB/s]\r 85%|████████▌ | 2.10G/2.47G [00:33<00:06, 55.3MB/s]\r 85%|████████▌ | 2.11G/2.47G [00:33<00:06, 52.5MB/s]\r 86%|████████▌ | 2.12G/2.47G [00:33<00:05, 62.5MB/s]\r 86%|████████▋ | 2.13G/2.47G [00:33<00:05, 59.0MB/s]\r 87%|████████▋ | 2.14G/2.47G [00:34<00:05, 59.6MB/s]\r 87%|████████▋ | 2.15G/2.47G [00:34<00:04, 65.0MB/s]\r 87%|████████▋ | 2.16G/2.47G [00:34<00:05, 53.5MB/s]\r 88%|████████▊ | 2.16G/2.47G [00:34<00:05, 58.5MB/s]\r 88%|████████▊ | 2.17G/2.47G [00:34<00:04, 59.6MB/s]\r 88%|████████▊ | 2.18G/2.47G [00:34<00:04, 64.8MB/s]\r 89%|████████▉ | 2.19G/2.47G [00:34<00:05, 52.2MB/s]\r 89%|████████▉ | 2.20G/2.47G [00:35<00:04, 58.2MB/s]\r 89%|████████▉ | 2.21G/2.47G [00:35<00:05, 49.8MB/s]\r 90%|█████████ | 2.23G/2.47G [00:35<00:03, 78.4MB/s]\r 91%|█████████ | 2.24G/2.47G [00:35<00:03, 71.8MB/s]\r 91%|█████████ | 2.25G/2.47G [00:35<00:03, 65.5MB/s]\r 91%|█████████▏| 2.25G/2.47G [00:35<00:02, 72.6MB/s]\r 92%|█████████▏| 2.26G/2.47G [00:35<00:02, 75.0MB/s]\r 92%|█████████▏| 2.27G/2.47G [00:36<00:03, 64.2MB/s]\r 92%|█████████▏| 2.28G/2.47G [00:36<00:03, 54.8MB/s]\r 93%|█████████▎| 2.30G/2.47G [00:36<00:02, 56.8MB/s]\r 94%|█████████▍| 2.32G/2.47G [00:36<00:02, 61.5MB/s]\r 95%|█████████▍| 2.33G/2.47G [00:37<00:02, 61.8MB/s]\r 95%|█████████▌| 2.35G/2.47G [00:37<00:01, 60.8MB/s]\r 96%|█████████▌| 2.37G/2.47G [00:37<00:01, 60.5MB/s]\r 96%|█████████▌| 2.37G/2.47G [00:38<00:01, 50.1MB/s]\r 97%|█████████▋| 2.39G/2.47G [00:38<00:01, 52.7MB/s]\r 98%|█████████▊| 2.41G/2.47G [00:38<00:01, 54.2MB/s]\r 99%|█████████▊| 2.43G/2.47G [00:38<00:00, 75.6MB/s]\r 99%|█████████▉| 2.44G/2.47G [00:38<00:00, 68.1MB/s]\r100%|██████████| 2.47G/2.47G [00:39<00:00, 63.2MB/s]\n"
          ]
        }
      ],
      "source": [
        "%%bash\n",
        "gdown 1HPx_GYIl0ZwDxhBUwUiGLkR0T41LS2mj\n",
        "mkdir KUMC\n",
        "tar xzf PolypsSet_KUMC.tar.gz --directory KUMC"
      ]
    },
    {
      "cell_type": "code",
      "source": [
        "from os import walk, path, rename\n",
        "def rename_files_in_folder(folder_path):\n",
        "    \"\"\"\n",
        "    rename items in subfolders to main folders like 1/1.txt to 1_1.txt\n",
        "    \"\"\"\n",
        "    for dirpath, _, files in walk(folder_path):\n",
        "        for f in files:\n",
        "            rename(path.join(dirpath, f), path.join(dirpath, path.split(dirpath)[-1] + '_' + f))"
      ],
      "metadata": {
        "id": "kQCNurXGTNwI"
      },
      "execution_count": 2,
      "outputs": []
    },
    {
      "cell_type": "code",
      "source": [
        "rename_files_in_folder('/content/KUMC/test2019/Annotation')\n",
        "rename_files_in_folder('/content/KUMC/test2019/Image')\n",
        "rename_files_in_folder('/content/KUMC/val2019/Annotation')\n",
        "rename_files_in_folder('/content/KUMC/val2019/Image')"
      ],
      "metadata": {
        "id": "t6J6MFb0TVl2"
      },
      "execution_count": 3,
      "outputs": []
    },
    {
      "cell_type": "code",
      "source": [
        "%%bash\n",
        "# recursively move files from subfolders to folder\n",
        "cd /content/KUMC/val2019/Image\n",
        "mv */* .\n",
        "cd /content/KUMC/val2019/Annotation\n",
        "mv */* .\n",
        "cd /content/KUMC/test2019/Image\n",
        "mv */* .\n",
        "cd /content/KUMC/test2019/Annotation\n",
        "mv */* ."
      ],
      "metadata": {
        "id": "ATukubluTXWE"
      },
      "execution_count": 4,
      "outputs": []
    },
    {
      "cell_type": "code",
      "source": [
        "#remove empty folders \n",
        "!find . -type d -empty -delete"
      ],
      "metadata": {
        "id": "FcRsfuzw3C_D"
      },
      "execution_count": 5,
      "outputs": []
    },
    {
      "cell_type": "code",
      "source": [
        "%%bash\n",
        "cd /content/KUMC/test2019\n",
        "mv Image/ images\n",
        "cd /content/KUMC/train2019\n",
        "mv Image/ images\n",
        "cd /content/KUMC/val2019\n",
        "mv Image/ images"
      ],
      "metadata": {
        "id": "mSgFU4qVXofG"
      },
      "execution_count": 6,
      "outputs": []
    },
    {
      "cell_type": "markdown",
      "source": [
        "## Resize PASCAL VOC (Currently not in use)"
      ],
      "metadata": {
        "id": "gN8fNi5zAIiO"
      }
    },
    {
      "cell_type": "code",
      "source": [
        "# make files good for resize\n",
        "for item in ['test2019','train2019','val2019']:\n",
        "    !mv /content/KUMC/{item}/images/*.jpg /content/KUMC/{item}\n",
        "    !mv /content/KUMC/{item}/Annotation/*.xml /content/KUMC/{item}"
      ],
      "metadata": {
        "id": "FeVdYqo30Ohu"
      },
      "execution_count": 8,
      "outputs": []
    },
    {
      "cell_type": "code",
      "source": [
        "!git clone https://github.com/italojs/resize_dataset_pascalvoc /content/resize  "
      ],
      "metadata": {
        "colab": {
          "base_uri": "https://localhost:8080/"
        },
        "id": "NjNDr8uX4tI2",
        "outputId": "049323ca-5450-46bb-a8a5-54642d0c6181"
      },
      "execution_count": 9,
      "outputs": [
        {
          "output_type": "stream",
          "name": "stdout",
          "text": [
            "Cloning into '/content/resize'...\n",
            "remote: Enumerating objects: 50, done.\u001b[K\n",
            "remote: Counting objects: 100% (21/21), done.\u001b[K\n",
            "remote: Compressing objects: 100% (9/9), done.\u001b[K\n",
            "remote: Total 50 (delta 14), reused 11 (delta 11), pack-reused 29\u001b[K\n",
            "Unpacking objects: 100% (50/50), done.\n"
          ]
        }
      ]
    },
    {
      "cell_type": "code",
      "source": [
        "for item in ['test2019','train2019','val2019']: # do resize\n",
        "    !python /content/resize/main.py -p /content/KUMC/{item} --output /content/KUMC/{item}_resized --new_x 640 --new_y 480 #--save_box_images 1"
      ],
      "metadata": {
        "id": "UJttKSXd0NrS"
      },
      "execution_count": 10,
      "outputs": []
    },
    {
      "cell_type": "code",
      "source": [
        "for item in ['test2019','train2019','val2019']: #get back at default directory strcuture\n",
        "    !rm -rf /content/KUMC/{item}\n",
        "    !mkdir -p /content/KUMC/{item}/images\n",
        "    !mkdir -p /content/KUMC/{item}/Annotation\n",
        "    !mv /content/KUMC/{item}_resized/*.jpg /content/KUMC/{item}/images/ \n",
        "    !mv /content/KUMC/{item}_resized/*.xml /content/KUMC/{item}/Annotation"
      ],
      "metadata": {
        "id": "fGExhlSZ6Gy5"
      },
      "execution_count": 11,
      "outputs": []
    },
    {
      "cell_type": "code",
      "source": [
        "!rm -rf /content/KUMC/test2019_resized\n",
        "!rm -rf /content/KUMC/val2019_resized\n",
        "!rm -rf /content/KUMC/train2019_resized"
      ],
      "metadata": {
        "id": "v3a7NTPl5u77"
      },
      "execution_count": 12,
      "outputs": []
    },
    {
      "cell_type": "markdown",
      "source": [
        "## Convert to YOLO Format"
      ],
      "metadata": {
        "id": "NAsf3Uh7AUqH"
      }
    },
    {
      "cell_type": "code",
      "source": [
        "pip install pylabel"
      ],
      "metadata": {
        "id": "ZxP2QHbuTvnr"
      },
      "execution_count": null,
      "outputs": []
    },
    {
      "cell_type": "code",
      "source": [
        "from pylabel import importer\n",
        "dataset = importer.ImportVOC(path=\"/content/KUMC/train2019/Annotation\", path_to_images=\"/content/KUMC/train2019/images\")\n",
        "dataset.export.ExportToYoloV5(output_path='/content/KUMC/train2019/labels',\n",
        "    yaml_file='dataset.yaml', cat_id_index=0) "
      ],
      "metadata": {
        "id": "-QKgBpQGT1ur"
      },
      "execution_count": null,
      "outputs": []
    },
    {
      "cell_type": "code",
      "source": [
        "dataset = importer.ImportVOC(path=\"/content/KUMC/test2019/Annotation\", path_to_images=\"/content/KUMC/tet2019/images\")\n",
        "dataset.export.ExportToYoloV5(output_path='/content/KUMC/test2019/labels',\n",
        "    yaml_file='dataset.yaml', cat_id_index=0) "
      ],
      "metadata": {
        "id": "mvZ0-yBjVEYc"
      },
      "execution_count": null,
      "outputs": []
    },
    {
      "cell_type": "code",
      "source": [
        "dataset = importer.ImportVOC(path=\"/content/KUMC/val2019/Annotation\", path_to_images=\"/content/KUMC/val2019/images\")\n",
        "dataset.export.ExportToYoloV5(output_path='/content/KUMC/val2019/labels',\n",
        "    yaml_file='dataset.yaml', cat_id_index=0) "
      ],
      "metadata": {
        "id": "TnAnfwIFV4Ym"
      },
      "execution_count": null,
      "outputs": []
    },
    {
      "cell_type": "code",
      "source": [
        "%%bash\n",
        "cd /content/KUMC/\n",
        "echo \"\n",
        "train: /content/KUMC/train2019/images\n",
        "val: /content/KUMC/val2019/images\n",
        "test: /content/KUMC/test2019/images\n",
        "nc: 2\n",
        "names: [hyperplastic, adenomatous]\n",
        "\" > database.yaml"
      ],
      "metadata": {
        "id": "WLrCTmooV7v9"
      },
      "execution_count": 17,
      "outputs": []
    },
    {
      "cell_type": "code",
      "source": [
        "# save to colab\n",
        "!zip -r KUMC.zip /content/KUMC"
      ],
      "metadata": {
        "id": "XlTFyENJ6ngC"
      },
      "execution_count": null,
      "outputs": []
    },
    {
      "cell_type": "code",
      "source": [
        "from google.colab import drive\n",
        "drive.mount('/content/drive')"
      ],
      "metadata": {
        "colab": {
          "base_uri": "https://localhost:8080/"
        },
        "id": "VPrvU7tt6vlu",
        "outputId": "63f2b1b2-1aa3-4960-86c4-4b5f8bb7fb02"
      },
      "execution_count": 19,
      "outputs": [
        {
          "output_type": "stream",
          "name": "stdout",
          "text": [
            "Mounted at /content/drive\n"
          ]
        }
      ]
    },
    {
      "cell_type": "code",
      "source": [
        "!cp /content/KUMC.zip /content/drive/MyDrive/KUMC.zip"
      ],
      "metadata": {
        "id": "nWDbiXb_6tux"
      },
      "execution_count": 20,
      "outputs": []
    },
    {
      "cell_type": "markdown",
      "source": [
        "## Use YOLO"
      ],
      "metadata": {
        "id": "ar6poc-wAY89"
      }
    },
    {
      "cell_type": "code",
      "source": [
        "%%bash\n",
        "git clone https://github.com/ultralytics/yolov5  # clone\n",
        "cd yolov5\n",
        "pip install -r requirements.txt  # install"
      ],
      "metadata": {
        "id": "UOjgyzZNX9iW"
      },
      "execution_count": null,
      "outputs": []
    },
    {
      "cell_type": "code",
      "source": [
        "!python /content/yolov5/train.py --img 640 --batch 64 --epochs 3 --data /content/KUMC/database.yaml --weights yolov5s.pt"
      ],
      "metadata": {
        "colab": {
          "base_uri": "https://localhost:8080/"
        },
        "id": "xvGLBAvOX96h",
        "outputId": "09f688b2-66b7-47b8-a3ea-459f6391d28e"
      },
      "execution_count": null,
      "outputs": [
        {
          "output_type": "stream",
          "name": "stdout",
          "text": [
            "\u001b[34m\u001b[1mtrain: \u001b[0mweights=yolov5s.pt, cfg=, data=/content/KUMC/database.yaml, hyp=yolov5/data/hyps/hyp.scratch-low.yaml, epochs=3, batch_size=64, imgsz=640, rect=False, resume=False, nosave=False, noval=False, noautoanchor=False, noplots=False, evolve=None, bucket=, cache=None, image_weights=False, device=, multi_scale=False, single_cls=False, optimizer=SGD, sync_bn=False, workers=8, project=yolov5/runs/train, name=exp, exist_ok=False, quad=False, cos_lr=False, label_smoothing=0.0, patience=100, freeze=[0], save_period=-1, local_rank=-1, entity=None, upload_dataset=False, bbox_interval=-1, artifact_alias=latest\n",
            "\u001b[34m\u001b[1mgithub: \u001b[0mup to date with https://github.com/ultralytics/yolov5 ✅\n",
            "YOLOv5 🚀 v6.1-169-g1994ad9 torch 1.11.0+cu113 CUDA:0 (Tesla K80, 11441MiB)\n",
            "\n",
            "\u001b[34m\u001b[1mhyperparameters: \u001b[0mlr0=0.01, lrf=0.01, momentum=0.937, weight_decay=0.0005, warmup_epochs=3.0, warmup_momentum=0.8, warmup_bias_lr=0.1, box=0.05, cls=0.5, cls_pw=1.0, obj=1.0, obj_pw=1.0, iou_t=0.2, anchor_t=4.0, fl_gamma=0.0, hsv_h=0.015, hsv_s=0.7, hsv_v=0.4, degrees=0.0, translate=0.1, scale=0.5, shear=0.0, perspective=0.0, flipud=0.0, fliplr=0.5, mosaic=1.0, mixup=0.0, copy_paste=0.0\n",
            "\u001b[34m\u001b[1mWeights & Biases: \u001b[0mrun 'pip install wandb' to automatically track and visualize YOLOv5 🚀 runs (RECOMMENDED)\n",
            "\u001b[34m\u001b[1mTensorBoard: \u001b[0mStart with 'tensorboard --logdir yolov5/runs/train', view at http://localhost:6006/\n",
            "Overriding model.yaml nc=80 with nc=2\n",
            "\n",
            "                 from  n    params  module                                  arguments                     \n",
            "  0                -1  1      3520  models.common.Conv                      [3, 32, 6, 2, 2]              \n",
            "  1                -1  1     18560  models.common.Conv                      [32, 64, 3, 2]                \n",
            "  2                -1  1     18816  models.common.C3                        [64, 64, 1]                   \n",
            "  3                -1  1     73984  models.common.Conv                      [64, 128, 3, 2]               \n",
            "  4                -1  2    115712  models.common.C3                        [128, 128, 2]                 \n",
            "  5                -1  1    295424  models.common.Conv                      [128, 256, 3, 2]              \n",
            "  6                -1  3    625152  models.common.C3                        [256, 256, 3]                 \n",
            "  7                -1  1   1180672  models.common.Conv                      [256, 512, 3, 2]              \n",
            "  8                -1  1   1182720  models.common.C3                        [512, 512, 1]                 \n",
            "  9                -1  1    656896  models.common.SPPF                      [512, 512, 5]                 \n",
            " 10                -1  1    131584  models.common.Conv                      [512, 256, 1, 1]              \n",
            " 11                -1  1         0  torch.nn.modules.upsampling.Upsample    [None, 2, 'nearest']          \n",
            " 12           [-1, 6]  1         0  models.common.Concat                    [1]                           \n",
            " 13                -1  1    361984  models.common.C3                        [512, 256, 1, False]          \n",
            " 14                -1  1     33024  models.common.Conv                      [256, 128, 1, 1]              \n",
            " 15                -1  1         0  torch.nn.modules.upsampling.Upsample    [None, 2, 'nearest']          \n",
            " 16           [-1, 4]  1         0  models.common.Concat                    [1]                           \n",
            " 17                -1  1     90880  models.common.C3                        [256, 128, 1, False]          \n",
            " 18                -1  1    147712  models.common.Conv                      [128, 128, 3, 2]              \n",
            " 19          [-1, 14]  1         0  models.common.Concat                    [1]                           \n",
            " 20                -1  1    296448  models.common.C3                        [256, 256, 1, False]          \n",
            " 21                -1  1    590336  models.common.Conv                      [256, 256, 3, 2]              \n",
            " 22          [-1, 10]  1         0  models.common.Concat                    [1]                           \n",
            " 23                -1  1   1182720  models.common.C3                        [512, 512, 1, False]          \n",
            " 24      [17, 20, 23]  1     18879  models.yolo.Detect                      [2, [[10, 13, 16, 30, 33, 23], [30, 61, 62, 45, 59, 119], [116, 90, 156, 198, 373, 326]], [128, 256, 512]]\n",
            "Model summary: 270 layers, 7025023 parameters, 7025023 gradients, 15.9 GFLOPs\n",
            "\n",
            "Transferred 343/349 items from yolov5s.pt\n",
            "Scaled weight_decay = 0.0005\n",
            "\u001b[34m\u001b[1moptimizer:\u001b[0m SGD with parameter groups 57 weight (no decay), 60 weight, 60 bias\n",
            "\u001b[34m\u001b[1malbumentations: \u001b[0mversion 1.0.3 required by YOLOv5, but version 0.1.12 is currently installed\n",
            "\u001b[34m\u001b[1mtrain: \u001b[0mScanning '/content/KUMC/train2019/labels.cache' images and labels... 1114 found, 27659 missing, 0 empty, 0 corrupt: 100% 28773/28773 [00:00<?, ?it/s]\n",
            "\u001b[34m\u001b[1mval: \u001b[0mScanning '/content/KUMC/val2019/labels.cache' images and labels... 0 found, 4254 missing, 0 empty, 0 corrupt: 100% 4254/4254 [00:00<?, ?it/s]\n",
            "Plotting labels to yolov5/runs/train/exp3/labels.jpg... \n",
            "\n",
            "\u001b[34m\u001b[1mAutoAnchor: \u001b[0m4.94 anchors/target, 1.000 Best Possible Recall (BPR). Current anchors are a good fit to dataset ✅\n",
            "Image sizes 640 train, 640 val\n",
            "Using 2 dataloader workers\n",
            "Logging results to \u001b[1myolov5/runs/train/exp3\u001b[0m\n",
            "Starting training for 3 epochs...\n",
            "\n",
            "     Epoch   gpu_mem       box       obj       cls    labels  img_size\n",
            "       0/2     11.3G   0.07947  0.007824   0.02609        44       640: 100% 450/450 [33:04<00:00,  4.41s/it]\n",
            "               Class     Images     Labels          P          R     mAP@.5 mAP@.5:.95: 100% 34/34 [01:15<00:00,  2.23s/it]\n",
            "                 all       4254          0          0          0          0          0\n",
            "\n",
            "     Epoch   gpu_mem       box       obj       cls    labels  img_size\n",
            "       1/2     11.3G    0.0711  0.005302   0.02497        10       640:  56% 254/450 [18:39<14:23,  4.41s/it]\n",
            "Traceback (most recent call last):\n",
            "  File \"/content/yolov5/train.py\", line 668, in <module>\n",
            "    main(opt)\n",
            "  File \"/content/yolov5/train.py\", line 563, in main\n",
            "    train(opt.hyp, opt, device, callbacks)\n",
            "  File \"/content/yolov5/train.py\", line 350, in train\n",
            "    loss, loss_items = compute_loss(pred, targets.to(device))  # loss scaled by batch_size\n",
            "KeyboardInterrupt\n"
          ]
        }
      ]
    },
    {
      "cell_type": "code",
      "source": [
        ""
      ],
      "metadata": {
        "id": "E7sU1Npx_klH"
      },
      "execution_count": null,
      "outputs": []
    }
  ]
}