{
  "nbformat": 4,
  "nbformat_minor": 0,
  "metadata": {
    "colab": {
      "name": "KUMC_First_RUN.ipynb",
      "provenance": [],
      "collapsed_sections": [],
      "authorship_tag": "ABX9TyOLFOtrrxItQjKq89vF+5Eo",
      "include_colab_link": true
    },
    "kernelspec": {
      "name": "python3",
      "display_name": "Python 3"
    },
    "language_info": {
      "name": "python"
    },
    "accelerator": "GPU"
  },
  "cells": [
    {
      "cell_type": "markdown",
      "metadata": {
        "id": "view-in-github",
        "colab_type": "text"
      },
      "source": [
        "<a href=\"https://colab.research.google.com/github/pourmand1376/Polyp_detection/blob/main/KUMC_First_RUN.ipynb\" target=\"_parent\"><img src=\"https://colab.research.google.com/assets/colab-badge.svg\" alt=\"Open In Colab\"/></a>"
      ]
    },
    {
      "cell_type": "markdown",
      "source": [
        "## Download Dataset and preprocess that"
      ],
      "metadata": {
        "id": "-_83IDqOAO97"
      }
    },
    {
      "cell_type": "code",
      "execution_count": 1,
      "metadata": {
        "colab": {
          "base_uri": "https://localhost:8080/"
        },
        "id": "pt8uO5r4BKMJ",
        "outputId": "876e79ed-f87b-4d56-f04f-759034406db7"
      },
      "outputs": [
        {
          "output_type": "stream",
          "name": "stderr",
          "text": [
            "Downloading...\n",
            "From: https://drive.google.com/uc?id=1HPx_GYIl0ZwDxhBUwUiGLkR0T41LS2mj\n",
            "To: /content/PolypsSet_KUMC.tar.gz\n",
            "\r  0%|          | 0.00/2.47G [00:00<?, ?B/s]\r  0%|          | 8.91M/2.47G [00:00<00:37, 66.4MB/s]\r  1%|▏         | 32.5M/2.47G [00:00<00:15, 154MB/s] \r  2%|▏         | 59.2M/2.47G [00:00<00:13, 172MB/s]\r  3%|▎         | 82.8M/2.47G [00:00<00:12, 193MB/s]\r  4%|▍         | 103M/2.47G [00:00<00:12, 183MB/s] \r  5%|▍         | 122M/2.47G [00:00<00:14, 158MB/s]\r  6%|▌         | 138M/2.47G [00:00<00:15, 152MB/s]\r  6%|▌         | 154M/2.47G [00:00<00:15, 152MB/s]\r  7%|▋         | 170M/2.47G [00:01<00:15, 151MB/s]\r  8%|▊         | 186M/2.47G [00:01<00:15, 147MB/s]\r  8%|▊         | 209M/2.47G [00:01<00:13, 172MB/s]\r 10%|▉         | 235M/2.47G [00:01<00:11, 195MB/s]\r 10%|█         | 255M/2.47G [00:01<00:12, 174MB/s]\r 11%|█         | 275M/2.47G [00:01<00:12, 181MB/s]\r 12%|█▏        | 296M/2.47G [00:01<00:11, 187MB/s]\r 13%|█▎        | 318M/2.47G [00:01<00:10, 196MB/s]\r 14%|█▎        | 339M/2.47G [00:01<00:10, 197MB/s]\r 15%|█▍        | 363M/2.47G [00:02<00:10, 210MB/s]\r 16%|█▌        | 384M/2.47G [00:02<00:10, 196MB/s]\r 16%|█▋        | 405M/2.47G [00:02<00:10, 196MB/s]\r 17%|█▋        | 425M/2.47G [00:02<00:10, 192MB/s]\r 18%|█▊        | 444M/2.47G [00:02<00:11, 176MB/s]\r 19%|█▊        | 462M/2.47G [00:02<00:13, 150MB/s]\r 19%|█▉        | 479M/2.47G [00:02<00:14, 136MB/s]\r 20%|██        | 495M/2.47G [00:02<00:14, 137MB/s]\r 21%|██        | 520M/2.47G [00:03<00:11, 164MB/s]\r 22%|██▏       | 538M/2.47G [00:03<00:16, 118MB/s]\r 22%|██▏       | 553M/2.47G [00:03<00:16, 119MB/s]\r 23%|██▎       | 569M/2.47G [00:03<00:14, 129MB/s]\r 24%|██▎       | 584M/2.47G [00:03<00:17, 108MB/s]\r 24%|██▍       | 597M/2.47G [00:03<00:19, 95.5MB/s]\r 25%|██▍       | 612M/2.47G [00:04<00:17, 108MB/s] \r 25%|██▌       | 629M/2.47G [00:04<00:15, 120MB/s]\r 26%|██▌       | 642M/2.47G [00:04<00:15, 115MB/s]\r 27%|██▋       | 657M/2.47G [00:04<00:14, 124MB/s]\r 27%|██▋       | 671M/2.47G [00:04<00:14, 120MB/s]\r 28%|██▊       | 687M/2.47G [00:04<00:13, 130MB/s]\r 29%|██▊       | 707M/2.47G [00:04<00:12, 145MB/s]\r 29%|██▉       | 722M/2.47G [00:04<00:12, 144MB/s]\r 30%|██▉       | 738M/2.47G [00:04<00:13, 125MB/s]\r 30%|███       | 752M/2.47G [00:05<00:13, 129MB/s]\r 31%|███       | 765M/2.47G [00:05<00:13, 126MB/s]\r 32%|███▏      | 779M/2.47G [00:05<00:13, 125MB/s]\r 32%|███▏      | 793M/2.47G [00:05<00:12, 131MB/s]\r 33%|███▎      | 808M/2.47G [00:05<00:12, 135MB/s]\r 33%|███▎      | 822M/2.47G [00:05<00:12, 136MB/s]\r 34%|███▍      | 836M/2.47G [00:05<00:13, 125MB/s]\r 35%|███▍      | 851M/2.47G [00:05<00:12, 132MB/s]\r 35%|███▌      | 865M/2.47G [00:06<00:14, 111MB/s]\r 36%|███▌      | 881M/2.47G [00:06<00:12, 123MB/s]\r 36%|███▋      | 895M/2.47G [00:06<00:12, 123MB/s]\r 37%|███▋      | 909M/2.47G [00:06<00:12, 124MB/s]\r 38%|███▊      | 927M/2.47G [00:06<00:11, 139MB/s]\r 38%|███▊      | 942M/2.47G [00:06<00:11, 134MB/s]\r 39%|███▊      | 956M/2.47G [00:06<00:12, 119MB/s]\r 39%|███▉      | 968M/2.47G [00:06<00:13, 110MB/s]\r 40%|███▉      | 980M/2.47G [00:06<00:13, 113MB/s]\r 40%|████      | 996M/2.47G [00:07<00:11, 123MB/s]\r 41%|████      | 1.01G/2.47G [00:07<00:10, 134MB/s]\r 42%|████▏     | 1.03G/2.47G [00:07<00:09, 146MB/s]\r 42%|████▏     | 1.04G/2.47G [00:07<00:10, 141MB/s]\r 43%|████▎     | 1.07G/2.47G [00:07<00:08, 171MB/s]\r 44%|████▍     | 1.09G/2.47G [00:07<00:07, 192MB/s]\r 45%|████▌     | 1.12G/2.47G [00:07<00:06, 211MB/s]\r 46%|████▋     | 1.14G/2.47G [00:07<00:06, 203MB/s]\r 47%|████▋     | 1.16G/2.47G [00:07<00:06, 210MB/s]\r 48%|████▊     | 1.19G/2.47G [00:07<00:06, 208MB/s]\r 49%|████▉     | 1.21G/2.47G [00:08<00:06, 209MB/s]\r 50%|████▉     | 1.23G/2.47G [00:08<00:06, 205MB/s]\r 51%|█████     | 1.25G/2.47G [00:08<00:07, 173MB/s]\r 51%|█████▏    | 1.27G/2.47G [00:08<00:07, 167MB/s]\r 52%|█████▏    | 1.29G/2.47G [00:08<00:06, 186MB/s]\r 53%|█████▎    | 1.32G/2.47G [00:08<00:05, 197MB/s]\r 54%|█████▍    | 1.34G/2.47G [00:08<00:05, 195MB/s]\r 55%|█████▌    | 1.36G/2.47G [00:08<00:05, 187MB/s]\r 56%|█████▌    | 1.38G/2.47G [00:09<00:06, 175MB/s]\r 57%|█████▋    | 1.40G/2.47G [00:09<00:05, 184MB/s]\r 58%|█████▊    | 1.42G/2.47G [00:09<00:05, 191MB/s]\r 58%|█████▊    | 1.44G/2.47G [00:09<00:05, 202MB/s]\r 59%|█████▉    | 1.47G/2.47G [00:09<00:04, 208MB/s]\r 60%|██████    | 1.49G/2.47G [00:09<00:04, 214MB/s]\r 61%|██████▏   | 1.51G/2.47G [00:09<00:04, 219MB/s]\r 62%|██████▏   | 1.54G/2.47G [00:09<00:04, 219MB/s]\r 63%|██████▎   | 1.56G/2.47G [00:09<00:04, 221MB/s]\r 64%|██████▍   | 1.58G/2.47G [00:09<00:03, 228MB/s]\r 65%|██████▌   | 1.61G/2.47G [00:10<00:03, 235MB/s]\r 66%|██████▋   | 1.63G/2.47G [00:10<00:04, 206MB/s]\r 67%|██████▋   | 1.66G/2.47G [00:10<00:04, 193MB/s]\r 68%|██████▊   | 1.68G/2.47G [00:10<00:04, 173MB/s]\r 69%|██████▉   | 1.70G/2.47G [00:10<00:04, 155MB/s]\r 70%|███████   | 1.73G/2.47G [00:10<00:04, 173MB/s]\r 71%|███████   | 1.75G/2.47G [00:10<00:03, 192MB/s]\r 72%|███████▏  | 1.78G/2.47G [00:11<00:04, 140MB/s]\r 73%|███████▎  | 1.80G/2.47G [00:11<00:04, 155MB/s]\r 74%|███████▎  | 1.82G/2.47G [00:11<00:03, 170MB/s]\r 75%|███████▍  | 1.84G/2.47G [00:11<00:03, 183MB/s]\r 76%|███████▌  | 1.86G/2.47G [00:11<00:03, 193MB/s]\r 77%|███████▋  | 1.89G/2.47G [00:11<00:02, 205MB/s]\r 78%|███████▊  | 1.91G/2.47G [00:11<00:02, 215MB/s]\r 79%|███████▊  | 1.94G/2.47G [00:11<00:02, 223MB/s]\r 79%|███████▉  | 1.96G/2.47G [00:11<00:02, 224MB/s]\r 80%|████████  | 1.98G/2.47G [00:12<00:02, 229MB/s]\r 82%|████████▏ | 2.01G/2.47G [00:12<00:01, 243MB/s]\r 83%|████████▎ | 2.04G/2.47G [00:12<00:02, 181MB/s]\r 83%|████████▎ | 2.06G/2.47G [00:12<00:02, 137MB/s]\r 84%|████████▍ | 2.08G/2.47G [00:12<00:02, 141MB/s]\r 85%|████████▍ | 2.10G/2.47G [00:12<00:02, 156MB/s]\r 86%|████████▌ | 2.12G/2.47G [00:12<00:02, 169MB/s]\r 87%|████████▋ | 2.14G/2.47G [00:13<00:02, 124MB/s]\r 88%|████████▊ | 2.16G/2.47G [00:13<00:01, 153MB/s]\r 88%|████████▊ | 2.18G/2.47G [00:13<00:01, 145MB/s]\r 89%|████████▉ | 2.21G/2.47G [00:13<00:01, 165MB/s]\r 90%|█████████ | 2.23G/2.47G [00:13<00:01, 188MB/s]\r 91%|█████████▏| 2.25G/2.47G [00:13<00:01, 180MB/s]\r 92%|█████████▏| 2.27G/2.47G [00:13<00:01, 161MB/s]\r 93%|█████████▎| 2.29G/2.47G [00:14<00:01, 133MB/s]\r 94%|█████████▍| 2.31G/2.47G [00:14<00:01, 153MB/s]\r 95%|█████████▍| 2.33G/2.47G [00:14<00:01, 127MB/s]\r 95%|█████████▌| 2.36G/2.47G [00:14<00:00, 149MB/s]\r 97%|█████████▋| 2.38G/2.47G [00:14<00:00, 176MB/s]\r 97%|█████████▋| 2.40G/2.47G [00:14<00:00, 160MB/s]\r 99%|█████████▊| 2.43G/2.47G [00:14<00:00, 192MB/s]\r 99%|█████████▉| 2.45G/2.47G [00:15<00:00, 188MB/s]\r100%|██████████| 2.47G/2.47G [00:15<00:00, 163MB/s]\n"
          ]
        }
      ],
      "source": [
        "%%bash\n",
        "gdown 1HPx_GYIl0ZwDxhBUwUiGLkR0T41LS2mj\n",
        "mkdir KUMC\n",
        "tar xzf PolypsSet_KUMC.tar.gz --directory KUMC"
      ]
    },
    {
      "cell_type": "code",
      "source": [
        "from os import walk, path, rename\n",
        "def rename_files_in_folder(folder_path):\n",
        "    \"\"\"\n",
        "    rename items in subfolders to main folders like 1/1.txt to 1_1.txt\n",
        "    \"\"\"\n",
        "    for dirpath, _, files in walk(folder_path):\n",
        "        for f in files:\n",
        "            rename(path.join(dirpath, f), path.join(dirpath, path.split(dirpath)[-1] + '_' + f))"
      ],
      "metadata": {
        "id": "kQCNurXGTNwI"
      },
      "execution_count": 2,
      "outputs": []
    },
    {
      "cell_type": "code",
      "source": [
        "rename_files_in_folder('/content/KUMC/test2019/Annotation')\n",
        "rename_files_in_folder('/content/KUMC/test2019/Image')\n",
        "rename_files_in_folder('/content/KUMC/val2019/Annotation')\n",
        "rename_files_in_folder('/content/KUMC/val2019/Image')"
      ],
      "metadata": {
        "id": "t6J6MFb0TVl2"
      },
      "execution_count": 3,
      "outputs": []
    },
    {
      "cell_type": "code",
      "source": [
        "%%bash\n",
        "# recursively move files from subfolders to folder\n",
        "cd /content/KUMC/val2019/Image\n",
        "mv */* .\n",
        "cd /content/KUMC/val2019/Annotation\n",
        "mv */* .\n",
        "cd /content/KUMC/test2019/Image\n",
        "mv */* .\n",
        "cd /content/KUMC/test2019/Annotation\n",
        "mv */* ."
      ],
      "metadata": {
        "id": "ATukubluTXWE"
      },
      "execution_count": 4,
      "outputs": []
    },
    {
      "cell_type": "code",
      "source": [
        "#remove empty folders \n",
        "!find . -type d -empty -delete"
      ],
      "metadata": {
        "id": "FcRsfuzw3C_D"
      },
      "execution_count": 5,
      "outputs": []
    },
    {
      "cell_type": "code",
      "source": [
        "%%bash\n",
        "cd /content/KUMC/test2019\n",
        "mv Image/ images\n",
        "cd /content/KUMC/train2019\n",
        "mv Image/ images\n",
        "cd /content/KUMC/val2019\n",
        "mv Image/ images"
      ],
      "metadata": {
        "id": "mSgFU4qVXofG"
      },
      "execution_count": 6,
      "outputs": []
    },
    {
      "cell_type": "code",
      "source": [
        ""
      ],
      "metadata": {
        "id": "WR6zn_3CA-dl"
      },
      "execution_count": null,
      "outputs": []
    },
    {
      "cell_type": "markdown",
      "source": [
        "## Resize PASCAL VOC (Currently not in use)"
      ],
      "metadata": {
        "id": "gN8fNi5zAIiO"
      }
    },
    {
      "cell_type": "code",
      "source": [
        "# make files good for resize\n",
        "for item in ['test2019','train2019','val2019']:\n",
        "    !mv /content/KUMC/{item}/images/*.jpg /content/KUMC/{item}\n",
        "    !mv /content/KUMC/{item}/Annotation/*.xml /content/KUMC/{item}"
      ],
      "metadata": {
        "id": "FeVdYqo30Ohu"
      },
      "execution_count": null,
      "outputs": []
    },
    {
      "cell_type": "code",
      "source": [
        "!git clone https://github.com/italojs/resize_dataset_pascalvoc /content/resize  "
      ],
      "metadata": {
        "colab": {
          "base_uri": "https://localhost:8080/"
        },
        "id": "NjNDr8uX4tI2",
        "outputId": "6a698982-8c2e-40fc-f695-2aa9cb3b0c0f"
      },
      "execution_count": 22,
      "outputs": [
        {
          "output_type": "stream",
          "name": "stdout",
          "text": [
            "Cloning into '/content/resize'...\n",
            "remote: Enumerating objects: 50, done.\u001b[K\n",
            "remote: Counting objects:   4% (1/21)\u001b[K\rremote: Counting objects:   9% (2/21)\u001b[K\rremote: Counting objects:  14% (3/21)\u001b[K\rremote: Counting objects:  19% (4/21)\u001b[K\rremote: Counting objects:  23% (5/21)\u001b[K\rremote: Counting objects:  28% (6/21)\u001b[K\rremote: Counting objects:  33% (7/21)\u001b[K\rremote: Counting objects:  38% (8/21)\u001b[K\rremote: Counting objects:  42% (9/21)\u001b[K\rremote: Counting objects:  47% (10/21)\u001b[K\rremote: Counting objects:  52% (11/21)\u001b[K\rremote: Counting objects:  57% (12/21)\u001b[K\rremote: Counting objects:  61% (13/21)\u001b[K\rremote: Counting objects:  66% (14/21)\u001b[K\rremote: Counting objects:  71% (15/21)\u001b[K\rremote: Counting objects:  76% (16/21)\u001b[K\rremote: Counting objects:  80% (17/21)\u001b[K\rremote: Counting objects:  85% (18/21)\u001b[K\rremote: Counting objects:  90% (19/21)\u001b[K\rremote: Counting objects:  95% (20/21)\u001b[K\rremote: Counting objects: 100% (21/21)\u001b[K\rremote: Counting objects: 100% (21/21), done.\u001b[K\n",
            "remote: Compressing objects:  11% (1/9)\u001b[K\rremote: Compressing objects:  22% (2/9)\u001b[K\rremote: Compressing objects:  33% (3/9)\u001b[K\rremote: Compressing objects:  44% (4/9)\u001b[K\rremote: Compressing objects:  55% (5/9)\u001b[K\rremote: Compressing objects:  66% (6/9)\u001b[K\rremote: Compressing objects:  77% (7/9)\u001b[K\rremote: Compressing objects:  88% (8/9)\u001b[K\rremote: Compressing objects: 100% (9/9)\u001b[K\rremote: Compressing objects: 100% (9/9), done.\u001b[K\n",
            "remote: Total 50 (delta 14), reused 11 (delta 11), pack-reused 29\u001b[K\n",
            "Unpacking objects: 100% (50/50), done.\n"
          ]
        }
      ]
    },
    {
      "cell_type": "code",
      "source": [
        "for item in ['test2019','train2019','val2019']: # do resize\n",
        "    !python /content/resize/main.py -p /content/KUMC/{item} --output /content/KUMC/{item}_resized --new_x 640 --new_y 480 #--save_box_images 1"
      ],
      "metadata": {
        "id": "UJttKSXd0NrS"
      },
      "execution_count": 24,
      "outputs": []
    },
    {
      "cell_type": "code",
      "source": [
        "for item in ['test2019','train2019','val2019']: #get back at default directory strcuture\n",
        "    !rm -rf /content/KUMC/{item}\n",
        "    !mkdir -p /content/KUMC/{item}/images\n",
        "    !mkdir -p /content/KUMC/{item}/Annotation\n",
        "    !mv /content/KUMC/{item}_resized/*.jpg /content/KUMC/{item}/images/ \n",
        "    !mv /content/KUMC/{item}_resized/*.xml /content/KUMC/{item}/Annotation"
      ],
      "metadata": {
        "id": "fGExhlSZ6Gy5"
      },
      "execution_count": 26,
      "outputs": []
    },
    {
      "cell_type": "markdown",
      "source": [
        "## Convert to YOLO Format"
      ],
      "metadata": {
        "id": "NAsf3Uh7AUqH"
      }
    },
    {
      "cell_type": "code",
      "source": [
        "pip install pylabel"
      ],
      "metadata": {
        "id": "ZxP2QHbuTvnr"
      },
      "execution_count": null,
      "outputs": []
    },
    {
      "cell_type": "code",
      "source": [
        "from pylabel import importer\n",
        "dataset = importer.ImportVOC(path=\"/content/KUMC/train2019/Annotation\", path_to_images=\"/content/KUMC/train2019/images\")\n",
        "dataset.export.ExportToYoloV5(output_path='/content/KUMC/train2019/labels',\n",
        "    yaml_file='dataset.yaml', cat_id_index=0) "
      ],
      "metadata": {
        "id": "-QKgBpQGT1ur"
      },
      "execution_count": null,
      "outputs": []
    },
    {
      "cell_type": "code",
      "source": [
        "dataset = importer.ImportVOC(path=\"/content/KUMC/test2019/Annotation\", path_to_images=\"/content/KUMC/tet2019/images\")\n",
        "dataset.export.ExportToYoloV5(output_path='/content/KUMC/test2019/labels',\n",
        "    yaml_file='dataset.yaml', cat_id_index=0) "
      ],
      "metadata": {
        "id": "mvZ0-yBjVEYc"
      },
      "execution_count": null,
      "outputs": []
    },
    {
      "cell_type": "code",
      "source": [
        "dataset = importer.ImportVOC(path=\"/content/KUMC/val2019/Annotation\", path_to_images=\"/content/KUMC/val2019/images\")\n",
        "dataset.export.ExportToYoloV5(output_path='/content/KUMC/val2019/labels',\n",
        "    yaml_file='dataset.yaml', cat_id_index=0) "
      ],
      "metadata": {
        "id": "TnAnfwIFV4Ym"
      },
      "execution_count": null,
      "outputs": []
    },
    {
      "cell_type": "code",
      "source": [
        "%%bash\n",
        "cd /content/KUMC/\n",
        "echo \"\n",
        "train: /content/KUMC/train2019/images\n",
        "val: /content/KUMC/val2019/images\n",
        "test: /content/KUMC/test2019/images\n",
        "nc: 2\n",
        "names: [hyperplastic, adenomatous]\n",
        "\" > database.yaml"
      ],
      "metadata": {
        "id": "WLrCTmooV7v9"
      },
      "execution_count": 11,
      "outputs": []
    },
    {
      "cell_type": "markdown",
      "source": [
        "## Use YOLO"
      ],
      "metadata": {
        "id": "ar6poc-wAY89"
      }
    },
    {
      "cell_type": "code",
      "source": [
        "%%bash\n",
        "git clone https://github.com/ultralytics/yolov5  # clone\n",
        "cd yolov5\n",
        "pip install -r requirements.txt  # install"
      ],
      "metadata": {
        "id": "UOjgyzZNX9iW"
      },
      "execution_count": null,
      "outputs": []
    },
    {
      "cell_type": "code",
      "source": [
        "!python /content/yolov5/train.py --img 640 --batch 64 --epochs 3 --data /content/KUMC/database.yaml --weights yolov5s.pt"
      ],
      "metadata": {
        "colab": {
          "base_uri": "https://localhost:8080/"
        },
        "id": "xvGLBAvOX96h",
        "outputId": "016e629d-1f98-402f-c1d2-27d3febf1f89"
      },
      "execution_count": null,
      "outputs": [
        {
          "output_type": "stream",
          "name": "stdout",
          "text": [
            "\u001b[34m\u001b[1mtrain: \u001b[0mweights=yolov5s.pt, cfg=, data=/content/KUMC/database.yaml, hyp=yolov5/data/hyps/hyp.scratch-low.yaml, epochs=3, batch_size=64, imgsz=640, rect=False, resume=False, nosave=False, noval=False, noautoanchor=False, noplots=False, evolve=None, bucket=, cache=None, image_weights=False, device=, multi_scale=False, single_cls=False, optimizer=SGD, sync_bn=False, workers=8, project=yolov5/runs/train, name=exp, exist_ok=False, quad=False, cos_lr=False, label_smoothing=0.0, patience=100, freeze=[0], save_period=-1, local_rank=-1, entity=None, upload_dataset=False, bbox_interval=-1, artifact_alias=latest\n",
            "\u001b[34m\u001b[1mgithub: \u001b[0mup to date with https://github.com/ultralytics/yolov5 ✅\n",
            "YOLOv5 🚀 v6.1-169-g1994ad9 torch 1.11.0+cu113 CUDA:0 (Tesla K80, 11441MiB)\n",
            "\n",
            "\u001b[34m\u001b[1mhyperparameters: \u001b[0mlr0=0.01, lrf=0.01, momentum=0.937, weight_decay=0.0005, warmup_epochs=3.0, warmup_momentum=0.8, warmup_bias_lr=0.1, box=0.05, cls=0.5, cls_pw=1.0, obj=1.0, obj_pw=1.0, iou_t=0.2, anchor_t=4.0, fl_gamma=0.0, hsv_h=0.015, hsv_s=0.7, hsv_v=0.4, degrees=0.0, translate=0.1, scale=0.5, shear=0.0, perspective=0.0, flipud=0.0, fliplr=0.5, mosaic=1.0, mixup=0.0, copy_paste=0.0\n",
            "\u001b[34m\u001b[1mWeights & Biases: \u001b[0mrun 'pip install wandb' to automatically track and visualize YOLOv5 🚀 runs (RECOMMENDED)\n",
            "\u001b[34m\u001b[1mTensorBoard: \u001b[0mStart with 'tensorboard --logdir yolov5/runs/train', view at http://localhost:6006/\n",
            "Overriding model.yaml nc=80 with nc=2\n",
            "\n",
            "                 from  n    params  module                                  arguments                     \n",
            "  0                -1  1      3520  models.common.Conv                      [3, 32, 6, 2, 2]              \n",
            "  1                -1  1     18560  models.common.Conv                      [32, 64, 3, 2]                \n",
            "  2                -1  1     18816  models.common.C3                        [64, 64, 1]                   \n",
            "  3                -1  1     73984  models.common.Conv                      [64, 128, 3, 2]               \n",
            "  4                -1  2    115712  models.common.C3                        [128, 128, 2]                 \n",
            "  5                -1  1    295424  models.common.Conv                      [128, 256, 3, 2]              \n",
            "  6                -1  3    625152  models.common.C3                        [256, 256, 3]                 \n",
            "  7                -1  1   1180672  models.common.Conv                      [256, 512, 3, 2]              \n",
            "  8                -1  1   1182720  models.common.C3                        [512, 512, 1]                 \n",
            "  9                -1  1    656896  models.common.SPPF                      [512, 512, 5]                 \n",
            " 10                -1  1    131584  models.common.Conv                      [512, 256, 1, 1]              \n",
            " 11                -1  1         0  torch.nn.modules.upsampling.Upsample    [None, 2, 'nearest']          \n",
            " 12           [-1, 6]  1         0  models.common.Concat                    [1]                           \n",
            " 13                -1  1    361984  models.common.C3                        [512, 256, 1, False]          \n",
            " 14                -1  1     33024  models.common.Conv                      [256, 128, 1, 1]              \n",
            " 15                -1  1         0  torch.nn.modules.upsampling.Upsample    [None, 2, 'nearest']          \n",
            " 16           [-1, 4]  1         0  models.common.Concat                    [1]                           \n",
            " 17                -1  1     90880  models.common.C3                        [256, 128, 1, False]          \n",
            " 18                -1  1    147712  models.common.Conv                      [128, 128, 3, 2]              \n",
            " 19          [-1, 14]  1         0  models.common.Concat                    [1]                           \n",
            " 20                -1  1    296448  models.common.C3                        [256, 256, 1, False]          \n",
            " 21                -1  1    590336  models.common.Conv                      [256, 256, 3, 2]              \n",
            " 22          [-1, 10]  1         0  models.common.Concat                    [1]                           \n",
            " 23                -1  1   1182720  models.common.C3                        [512, 512, 1, False]          \n",
            " 24      [17, 20, 23]  1     18879  models.yolo.Detect                      [2, [[10, 13, 16, 30, 33, 23], [30, 61, 62, 45, 59, 119], [116, 90, 156, 198, 373, 326]], [128, 256, 512]]\n",
            "Model summary: 270 layers, 7025023 parameters, 7025023 gradients, 15.9 GFLOPs\n",
            "\n",
            "Transferred 343/349 items from yolov5s.pt\n",
            "Scaled weight_decay = 0.0005\n",
            "\u001b[34m\u001b[1moptimizer:\u001b[0m SGD with parameter groups 57 weight (no decay), 60 weight, 60 bias\n",
            "\u001b[34m\u001b[1malbumentations: \u001b[0mversion 1.0.3 required by YOLOv5, but version 0.1.12 is currently installed\n",
            "\u001b[34m\u001b[1mtrain: \u001b[0mScanning '/content/KUMC/train2019/labels.cache' images and labels... 1114 found, 27659 missing, 0 empty, 0 corrupt: 100% 28773/28773 [00:00<?, ?it/s]\n",
            "\u001b[34m\u001b[1mval: \u001b[0mScanning '/content/KUMC/val2019/labels.cache' images and labels... 0 found, 4254 missing, 0 empty, 0 corrupt: 100% 4254/4254 [00:00<?, ?it/s]\n",
            "Plotting labels to yolov5/runs/train/exp3/labels.jpg... \n",
            "\n",
            "\u001b[34m\u001b[1mAutoAnchor: \u001b[0m4.94 anchors/target, 1.000 Best Possible Recall (BPR). Current anchors are a good fit to dataset ✅\n",
            "Image sizes 640 train, 640 val\n",
            "Using 2 dataloader workers\n",
            "Logging results to \u001b[1myolov5/runs/train/exp3\u001b[0m\n",
            "Starting training for 3 epochs...\n",
            "\n",
            "     Epoch   gpu_mem       box       obj       cls    labels  img_size\n",
            "       0/2     11.2G    0.1155   0.02192   0.02992        17       640:   6% 28/450 [02:08<31:07,  4.43s/it]"
          ]
        }
      ]
    },
    {
      "cell_type": "code",
      "source": [
        ""
      ],
      "metadata": {
        "id": "E7sU1Npx_klH"
      },
      "execution_count": null,
      "outputs": []
    }
  ]
}