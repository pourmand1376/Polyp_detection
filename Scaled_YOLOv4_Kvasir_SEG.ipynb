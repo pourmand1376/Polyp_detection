{
  "nbformat": 4,
  "nbformat_minor": 0,
  "metadata": {
    "accelerator": "GPU",
    "colab": {
      "name": "Scaled-YOLOv4-Kvasir-SEG",
      "provenance": [],
      "collapsed_sections": []
    },
    "kernelspec": {
      "display_name": "Python 3",
      "name": "python3"
    }
  },
  "cells": [
    {
      "cell_type": "markdown",
      "metadata": {
        "id": "GD9gUQpaBxNa"
      },
      "source": [
        "# How to Train Scaled-YOLOv4 on Custom Objects\n",
        "\n",
        "Scaled-YOLOv4 uses the same training procedures as YOLOv5.\n",
        "\n",
        "This tutorial is based on the [YOLOv5 repository](https://github.com/ultralytics/yolov5) by [Ultralytics](https://www.ultralytics.com/). This notebook shows training on **your own custom objects**. Many thanks to Ultralytics for putting this repository together - we hope that in combination with clean data management tools at Roboflow, this technologoy will become easily accessible to any developer wishing to use computer vision in their projects.\n",
        "\n",
        "### Accompanying Blog Post\n",
        "\n",
        "A blog on Scaled-YOLOv4 is to come, in the meantime having the blog for [how to train YOLOv5](https://blog.roboflow.ai/how-to-train-yolov5-on-a-custom-dataset/)will be useful.\n",
        "\n",
        "### Steps Covered in this Tutorial\n",
        "\n",
        "In this tutorial, we will walk through the steps required to train Scaled-YOLOv4 on your custom objects. We use a [public blood cell detection dataset](https://public.roboflow.ai/object-detection/bccd), which is open source and free to use. You can also use this notebook on your own data.\n",
        "\n",
        "To train our detector we take the following steps:\n",
        "\n",
        "* Install Scaled-YOLOv4 dependencies\n",
        "* Download custom Scaled-YOLOv4 object detection data\n",
        "* Write our Scaled-YOLOv4 Training configuration\n",
        "* Run Scaled-YOLOv4 training\n",
        "* Evaluate Scaled-YOLOv4 performance\n",
        "* Visualize Scaled-YOLOv4 training data\n",
        "* Run Scaled-YOLOv4 inference on test images\n",
        "* Export saved Scaled-YOLOv4 weights for future inference\n",
        "\n",
        "\n",
        "\n",
        "### **About**\n",
        "\n",
        "[Roboflow](https://roboflow.com) enables teams to deploy custom computer vision models quickly and accurately. Convert data from to annotation format, assess dataset health, preprocess, augment, and more. It's free for your first 1000 source images.\n",
        "\n",
        "**Looking for a vision model available via API without hassle? Try Roboflow Train.**\n",
        "\n",
        "![Roboflow Wordmark](https://i.imgur.com/dcLNMhV.png)\n",
        "\n"
      ]
    },
    {
      "cell_type": "markdown",
      "metadata": {
        "id": "7mGmQbAO5pQb"
      },
      "source": [
        "#Install Dependencies\n",
        "\n",
        "_(Remember to choose GPU in Runtime if not already selected. Runtime --> Change Runtime Type --> Hardware accelerator --> GPU)_"
      ]
    },
    {
      "cell_type": "code",
      "metadata": {
        "colab": {
          "base_uri": "https://localhost:8080/"
        },
        "id": "Ie5uLDH4uzAp",
        "outputId": "8c2165de-280d-470a-8a39-29ad0b13a9f5"
      },
      "source": [
        "# clone Scaled_YOLOv4\n",
        "!git clone https://github.com/roboflow-ai/ScaledYOLOv4.git  # clone repo\n",
        "%cd /content/ScaledYOLOv4/\n",
        "#checkout the yolov4-large branch\n",
        "!git checkout yolov4-large"
      ],
      "execution_count": null,
      "outputs": [
        {
          "output_type": "stream",
          "name": "stdout",
          "text": [
            "Cloning into 'ScaledYOLOv4'...\n",
            "remote: Enumerating objects: 128, done.\u001b[K\n",
            "remote: Total 128 (delta 0), reused 0 (delta 0), pack-reused 128\u001b[K\n",
            "Receiving objects: 100% (128/128), 389.37 KiB | 24.33 MiB/s, done.\n",
            "Resolving deltas: 100% (39/39), done.\n",
            "/content/ScaledYOLOv4\n",
            "Branch 'yolov4-large' set up to track remote branch 'yolov4-large' from 'origin'.\n",
            "Switched to a new branch 'yolov4-large'\n"
          ]
        }
      ]
    },
    {
      "cell_type": "code",
      "metadata": {
        "colab": {
          "base_uri": "https://localhost:8080/"
        },
        "id": "XBOZRXCpDv9u",
        "outputId": "8974811c-c4c3-4022-f60c-26133a1a62ef"
      },
      "source": [
        "import torch\n",
        "print('Using torch %s %s' % (torch.__version__, torch.cuda.get_device_properties(0) if torch.cuda.is_available() else 'CPU'))"
      ],
      "execution_count": null,
      "outputs": [
        {
          "output_type": "stream",
          "name": "stdout",
          "text": [
            "Using torch 1.10.0+cu111 _CudaDeviceProperties(name='Tesla T4', major=7, minor=5, total_memory=15109MB, multi_processor_count=40)\n"
          ]
        }
      ]
    },
    {
      "cell_type": "code",
      "metadata": {
        "colab": {
          "base_uri": "https://localhost:8080/"
        },
        "id": "a-T9H2ZsClol",
        "outputId": "6d1c47b3-035f-41cb-96ab-84d8e4c95665"
      },
      "source": [
        "#install mish activation funciton for cuda\n",
        "%cd /content/\n",
        "!git clone https://github.com/JunnYu/mish-cuda\n",
        "%cd mish-cuda\n",
        "!python setup.py build install"
      ],
      "execution_count": null,
      "outputs": [
        {
          "output_type": "stream",
          "name": "stdout",
          "text": [
            "/content\n",
            "Cloning into 'mish-cuda'...\n",
            "remote: Enumerating objects: 195, done.\u001b[K\n",
            "remote: Counting objects: 100% (88/88), done.\u001b[K\n",
            "remote: Compressing objects: 100% (75/75), done.\u001b[K\n",
            "remote: Total 195 (delta 7), reused 79 (delta 3), pack-reused 107\u001b[K\n",
            "Receiving objects: 100% (195/195), 208.77 KiB | 17.40 MiB/s, done.\n",
            "Resolving deltas: 100% (56/56), done.\n",
            "/content/mish-cuda\n",
            "/usr/lib/python3.7/distutils/extension.py:131: UserWarning: Unknown Extension options: 'headers'\n",
            "  warnings.warn(msg)\n",
            "running build\n",
            "running build_py\n",
            "creating build\n",
            "creating build/lib.linux-x86_64-3.7\n",
            "creating build/lib.linux-x86_64-3.7/mish_cuda\n",
            "copying src/mish_cuda/__init__.py -> build/lib.linux-x86_64-3.7/mish_cuda\n",
            "running egg_info\n",
            "creating src/mish_cuda.egg-info\n",
            "writing src/mish_cuda.egg-info/PKG-INFO\n",
            "writing dependency_links to src/mish_cuda.egg-info/dependency_links.txt\n",
            "writing requirements to src/mish_cuda.egg-info/requires.txt\n",
            "writing top-level names to src/mish_cuda.egg-info/top_level.txt\n",
            "writing manifest file 'src/mish_cuda.egg-info/SOURCES.txt'\n",
            "/usr/local/lib/python3.7/dist-packages/torch/utils/cpp_extension.py:381: UserWarning: Attempted to use ninja as the BuildExtension backend but we could not find ninja.. Falling back to using the slow distutils backend.\n",
            "  warnings.warn(msg.format('we could not find ninja.'))\n",
            "adding license file 'LICENSE'\n",
            "writing manifest file 'src/mish_cuda.egg-info/SOURCES.txt'\n",
            "running build_ext\n",
            "building 'mish_cuda._C' extension\n",
            "creating build/temp.linux-x86_64-3.7\n",
            "creating build/temp.linux-x86_64-3.7/csrc\n",
            "creating build/temp.linux-x86_64-3.7/csrc/cpu\n",
            "creating build/temp.linux-x86_64-3.7/csrc/cuda\n",
            "x86_64-linux-gnu-gcc -pthread -Wno-unused-result -Wsign-compare -DNDEBUG -g -fwrapv -O2 -Wall -g -fdebug-prefix-map=/build/python3.7-Y7dWVB/python3.7-3.7.12=. -fstack-protector-strong -Wformat -Werror=format-security -g -fdebug-prefix-map=/build/python3.7-Y7dWVB/python3.7-3.7.12=. -fstack-protector-strong -Wformat -Werror=format-security -Wdate-time -D_FORTIFY_SOURCE=2 -fPIC -I/usr/local/lib/python3.7/dist-packages/torch/include -I/usr/local/lib/python3.7/dist-packages/torch/include/torch/csrc/api/include -I/usr/local/lib/python3.7/dist-packages/torch/include/TH -I/usr/local/lib/python3.7/dist-packages/torch/include/THC -I/usr/local/cuda/include -I/usr/include/python3.7m -c csrc/cpu/mish_cpu.cpp -o build/temp.linux-x86_64-3.7/csrc/cpu/mish_cpu.o -DTORCH_API_INCLUDE_EXTENSION_H -DPYBIND11_COMPILER_TYPE=\"_gcc\" -DPYBIND11_STDLIB=\"_libstdcpp\" -DPYBIND11_BUILD_ABI=\"_cxxabi1011\" -DTORCH_EXTENSION_NAME=_C -D_GLIBCXX_USE_CXX11_ABI=0 -std=c++14\n",
            "x86_64-linux-gnu-gcc -pthread -Wno-unused-result -Wsign-compare -DNDEBUG -g -fwrapv -O2 -Wall -g -fdebug-prefix-map=/build/python3.7-Y7dWVB/python3.7-3.7.12=. -fstack-protector-strong -Wformat -Werror=format-security -g -fdebug-prefix-map=/build/python3.7-Y7dWVB/python3.7-3.7.12=. -fstack-protector-strong -Wformat -Werror=format-security -Wdate-time -D_FORTIFY_SOURCE=2 -fPIC -I/usr/local/lib/python3.7/dist-packages/torch/include -I/usr/local/lib/python3.7/dist-packages/torch/include/torch/csrc/api/include -I/usr/local/lib/python3.7/dist-packages/torch/include/TH -I/usr/local/lib/python3.7/dist-packages/torch/include/THC -I/usr/local/cuda/include -I/usr/include/python3.7m -c csrc/cuda/mish_cuda.cpp -o build/temp.linux-x86_64-3.7/csrc/cuda/mish_cuda.o -DTORCH_API_INCLUDE_EXTENSION_H -DPYBIND11_COMPILER_TYPE=\"_gcc\" -DPYBIND11_STDLIB=\"_libstdcpp\" -DPYBIND11_BUILD_ABI=\"_cxxabi1011\" -DTORCH_EXTENSION_NAME=_C -D_GLIBCXX_USE_CXX11_ABI=0 -std=c++14\n",
            "/usr/local/cuda/bin/nvcc -I/usr/local/lib/python3.7/dist-packages/torch/include -I/usr/local/lib/python3.7/dist-packages/torch/include/torch/csrc/api/include -I/usr/local/lib/python3.7/dist-packages/torch/include/TH -I/usr/local/lib/python3.7/dist-packages/torch/include/THC -I/usr/local/cuda/include -I/usr/include/python3.7m -c csrc/cuda/mish_kernel.cu -o build/temp.linux-x86_64-3.7/csrc/cuda/mish_kernel.o -D__CUDA_NO_HALF_OPERATORS__ -D__CUDA_NO_HALF_CONVERSIONS__ -D__CUDA_NO_BFLOAT16_CONVERSIONS__ -D__CUDA_NO_HALF2_OPERATORS__ --expt-relaxed-constexpr --compiler-options '-fPIC' --expt-extended-lambda -DTORCH_API_INCLUDE_EXTENSION_H -DPYBIND11_COMPILER_TYPE=\"_gcc\" -DPYBIND11_STDLIB=\"_libstdcpp\" -DPYBIND11_BUILD_ABI=\"_cxxabi1011\" -DTORCH_EXTENSION_NAME=_C -D_GLIBCXX_USE_CXX11_ABI=0 -gencode=arch=compute_75,code=compute_75 -gencode=arch=compute_75,code=sm_75 -std=c++14\n",
            "x86_64-linux-gnu-g++ -pthread -shared -Wl,-O1 -Wl,-Bsymbolic-functions -Wl,-Bsymbolic-functions -Wl,-z,relro -Wl,-Bsymbolic-functions -Wl,-z,relro -g -fdebug-prefix-map=/build/python3.7-Y7dWVB/python3.7-3.7.12=. -fstack-protector-strong -Wformat -Werror=format-security -Wdate-time -D_FORTIFY_SOURCE=2 build/temp.linux-x86_64-3.7/csrc/cpu/mish_cpu.o build/temp.linux-x86_64-3.7/csrc/cuda/mish_cuda.o build/temp.linux-x86_64-3.7/csrc/cuda/mish_kernel.o -L/usr/local/lib/python3.7/dist-packages/torch/lib -L/usr/local/cuda/lib64 -lc10 -ltorch -ltorch_cpu -ltorch_python -lcudart -lc10_cuda -ltorch_cuda_cu -ltorch_cuda_cpp -o build/lib.linux-x86_64-3.7/mish_cuda/_C.cpython-37m-x86_64-linux-gnu.so\n",
            "running install\n",
            "running bdist_egg\n",
            "installing library code to build/bdist.linux-x86_64/egg\n",
            "running install_lib\n",
            "creating build/bdist.linux-x86_64\n",
            "creating build/bdist.linux-x86_64/egg\n",
            "creating build/bdist.linux-x86_64/egg/mish_cuda\n",
            "copying build/lib.linux-x86_64-3.7/mish_cuda/__init__.py -> build/bdist.linux-x86_64/egg/mish_cuda\n",
            "copying build/lib.linux-x86_64-3.7/mish_cuda/_C.cpython-37m-x86_64-linux-gnu.so -> build/bdist.linux-x86_64/egg/mish_cuda\n",
            "byte-compiling build/bdist.linux-x86_64/egg/mish_cuda/__init__.py to __init__.cpython-37.pyc\n",
            "creating stub loader for mish_cuda/_C.cpython-37m-x86_64-linux-gnu.so\n",
            "byte-compiling build/bdist.linux-x86_64/egg/mish_cuda/_C.py to _C.cpython-37.pyc\n",
            "creating build/bdist.linux-x86_64/egg/EGG-INFO\n",
            "copying src/mish_cuda.egg-info/PKG-INFO -> build/bdist.linux-x86_64/egg/EGG-INFO\n",
            "copying src/mish_cuda.egg-info/SOURCES.txt -> build/bdist.linux-x86_64/egg/EGG-INFO\n",
            "copying src/mish_cuda.egg-info/dependency_links.txt -> build/bdist.linux-x86_64/egg/EGG-INFO\n",
            "copying src/mish_cuda.egg-info/not-zip-safe -> build/bdist.linux-x86_64/egg/EGG-INFO\n",
            "copying src/mish_cuda.egg-info/requires.txt -> build/bdist.linux-x86_64/egg/EGG-INFO\n",
            "copying src/mish_cuda.egg-info/top_level.txt -> build/bdist.linux-x86_64/egg/EGG-INFO\n",
            "writing build/bdist.linux-x86_64/egg/EGG-INFO/native_libs.txt\n",
            "creating dist\n",
            "creating 'dist/mish_cuda-0.0.3-py3.7-linux-x86_64.egg' and adding 'build/bdist.linux-x86_64/egg' to it\n",
            "removing 'build/bdist.linux-x86_64/egg' (and everything under it)\n",
            "Processing mish_cuda-0.0.3-py3.7-linux-x86_64.egg\n",
            "creating /usr/local/lib/python3.7/dist-packages/mish_cuda-0.0.3-py3.7-linux-x86_64.egg\n",
            "Extracting mish_cuda-0.0.3-py3.7-linux-x86_64.egg to /usr/local/lib/python3.7/dist-packages\n",
            "Adding mish-cuda 0.0.3 to easy-install.pth file\n",
            "\n",
            "Installed /usr/local/lib/python3.7/dist-packages/mish_cuda-0.0.3-py3.7-linux-x86_64.egg\n",
            "Processing dependencies for mish-cuda==0.0.3\n",
            "Searching for torch==1.10.0+cu111\n",
            "Best match: torch 1.10.0+cu111\n",
            "Adding torch 1.10.0+cu111 to easy-install.pth file\n",
            "Installing convert-caffe2-to-onnx script to /usr/local/bin\n",
            "Installing convert-onnx-to-caffe2 script to /usr/local/bin\n",
            "Installing torchrun script to /usr/local/bin\n",
            "\n",
            "Using /usr/local/lib/python3.7/dist-packages\n",
            "Searching for typing-extensions==3.10.0.2\n",
            "Best match: typing-extensions 3.10.0.2\n",
            "Adding typing-extensions 3.10.0.2 to easy-install.pth file\n",
            "\n",
            "Using /usr/local/lib/python3.7/dist-packages\n",
            "Finished processing dependencies for mish-cuda==0.0.3\n"
          ]
        }
      ]
    },
    {
      "cell_type": "code",
      "metadata": {
        "colab": {
          "base_uri": "https://localhost:8080/"
        },
        "id": "nUJIhi7zGZov",
        "outputId": "2c73006d-f7b5-45c5-f42a-99f74a3d2db6"
      },
      "source": [
        "!pip install -U PyYAML"
      ],
      "execution_count": null,
      "outputs": [
        {
          "output_type": "stream",
          "name": "stdout",
          "text": [
            "Requirement already satisfied: PyYAML in /usr/local/lib/python3.7/dist-packages (3.13)\n",
            "Collecting PyYAML\n",
            "  Downloading PyYAML-6.0-cp37-cp37m-manylinux_2_5_x86_64.manylinux1_x86_64.manylinux_2_12_x86_64.manylinux2010_x86_64.whl (596 kB)\n",
            "\u001b[K     |████████████████████████████████| 596 kB 31.9 MB/s \n",
            "\u001b[?25hInstalling collected packages: PyYAML\n",
            "  Attempting uninstall: PyYAML\n",
            "    Found existing installation: PyYAML 3.13\n",
            "    Uninstalling PyYAML-3.13:\n",
            "      Successfully uninstalled PyYAML-3.13\n",
            "Successfully installed PyYAML-6.0\n"
          ]
        }
      ]
    },
    {
      "cell_type": "code",
      "metadata": {
        "colab": {
          "base_uri": "https://localhost:8080/"
        },
        "id": "heGR545OCnIM",
        "outputId": "96ae4da2-329c-41b8-a32b-9612f97660bb"
      },
      "source": [
        "%cd /content/ScaledYOLOv4/\n"
      ],
      "execution_count": null,
      "outputs": [
        {
          "output_type": "stream",
          "name": "stdout",
          "text": [
            "/content/ScaledYOLOv4\n"
          ]
        }
      ]
    },
    {
      "cell_type": "markdown",
      "metadata": {
        "id": "SDIhrBF0sPaM"
      },
      "source": [
        "# Download Correctly Formatted Custom Dataset \n",
        "\n",
        "We'll download our dataset from Roboflow. Use the \"**YOLOv5 PyTorch**\" export format. Note that the Ultralytics implementation calls for a YAML file defining where your training and test data is. The Roboflow export also writes this format for us.\n",
        "\n",
        "To get your data into Roboflow, follow the [Getting Started Guide](https://blog.roboflow.ai/getting-started-with-roboflow/)."
      ]
    },
    {
      "cell_type": "markdown",
      "metadata": {
        "id": "vDeebwqS9JbZ"
      },
      "source": [
        "\n",
        "\n",
        "![YOLOv5 PyTorch export](https://i.imgur.com/5vr9G2u.png)\n"
      ]
    },
    {
      "cell_type": "code",
      "metadata": {
        "id": "AJ4sveiC8wJI",
        "colab": {
          "base_uri": "https://localhost:8080/"
        },
        "outputId": "7608b32e-deb4-41e4-ba40-f15482d39b60"
      },
      "source": [
        "#follow the link below to get your download code from from Roboflow\n",
        "!pip install -q roboflow\n",
        "from roboflow import Roboflow\n",
        "rf = Roboflow(model_format=\"yolov5\", notebook=\"roboflow-scaled-yolov4\")"
      ],
      "execution_count": null,
      "outputs": [
        {
          "output_type": "stream",
          "name": "stdout",
          "text": [
            "\u001b[?25l\r\u001b[K     |██▎                             | 10 kB 30.6 MB/s eta 0:00:01\r\u001b[K     |████▌                           | 20 kB 37.7 MB/s eta 0:00:01\r\u001b[K     |██████▊                         | 30 kB 44.4 MB/s eta 0:00:01\r\u001b[K     |█████████                       | 40 kB 48.2 MB/s eta 0:00:01\r\u001b[K     |███████████▎                    | 51 kB 52.1 MB/s eta 0:00:01\r\u001b[K     |█████████████▌                  | 61 kB 56.4 MB/s eta 0:00:01\r\u001b[K     |███████████████▊                | 71 kB 54.0 MB/s eta 0:00:01\r\u001b[K     |██████████████████              | 81 kB 54.6 MB/s eta 0:00:01\r\u001b[K     |████████████████████▎           | 92 kB 57.3 MB/s eta 0:00:01\r\u001b[K     |██████████████████████▌         | 102 kB 59.4 MB/s eta 0:00:01\r\u001b[K     |████████████████████████▊       | 112 kB 59.4 MB/s eta 0:00:01\r\u001b[K     |███████████████████████████     | 122 kB 59.4 MB/s eta 0:00:01\r\u001b[K     |█████████████████████████████▎  | 133 kB 59.4 MB/s eta 0:00:01\r\u001b[K     |███████████████████████████████▌| 143 kB 59.4 MB/s eta 0:00:01\r\u001b[K     |████████████████████████████████| 145 kB 59.4 MB/s \n",
            "\u001b[K     |████████████████████████████████| 67 kB 6.1 MB/s \n",
            "\u001b[K     |████████████████████████████████| 1.1 MB 35.4 MB/s \n",
            "\u001b[K     |████████████████████████████████| 178 kB 64.8 MB/s \n",
            "\u001b[K     |████████████████████████████████| 138 kB 73.3 MB/s \n",
            "\u001b[K     |████████████████████████████████| 63 kB 2.3 MB/s \n",
            "\u001b[?25h  Building wheel for wget (setup.py) ... \u001b[?25l\u001b[?25hdone\n",
            "\u001b[31mERROR: pip's dependency resolver does not currently take into account all the packages that are installed. This behaviour is the source of the following dependency conflicts.\n",
            "google-colab 1.0.0 requires requests~=2.23.0, but you have requests 2.27.1 which is incompatible.\n",
            "datascience 0.10.6 requires folium==0.2.1, but you have folium 0.8.3 which is incompatible.\n",
            "albumentations 0.1.12 requires imgaug<0.2.7,>=0.2.5, but you have imgaug 0.2.9 which is incompatible.\u001b[0m\n",
            "upload and label your dataset, and get an API KEY here: https://app.roboflow.com/?model=yolov5&ref=roboflow-scaled-yolov4\n"
          ]
        }
      ]
    },
    {
      "cell_type": "code",
      "metadata": {
        "colab": {
          "base_uri": "https://localhost:8080/"
        },
        "id": "Knxi2ncxWffW",
        "outputId": "480ae337-271a-4464-d03a-1b243c2fa0b7"
      },
      "source": [
        "# Export code snippet and paste here\n",
        "%cd /content\n",
        "!#after following the link above, recieve python code with these fields filled in\n",
        "from roboflow import Roboflow\n",
        "rf = Roboflow(api_key=\"Quj44CovudhOOv2fXcs0\")\n",
        "project = rf.workspace().project(\"kvasir-seg-hrk5k\")\n",
        "dataset = project.version(\"1\").download(\"yolov5\")"
      ],
      "execution_count": null,
      "outputs": [
        {
          "output_type": "stream",
          "name": "stdout",
          "text": [
            "/content\n",
            "loading Roboflow workspace...\n",
            "loading Roboflow project...\n",
            "Downloading Dataset Version Zip in Kvasir-SEG-1 to yolov5pytorch: 100% [48322306 / 48322306] bytes\n"
          ]
        },
        {
          "output_type": "stream",
          "name": "stderr",
          "text": [
            "Extracting Dataset Version Zip to Kvasir-SEG-1 in yolov5pytorch:: 100%|██████████| 4812/4812 [00:03<00:00, 1557.36it/s]\n"
          ]
        }
      ]
    },
    {
      "cell_type": "code",
      "metadata": {
        "colab": {
          "base_uri": "https://localhost:8080/"
        },
        "id": "ZZ3DmmGQztJj",
        "outputId": "ec563f60-add8-45d1-d466-073ec3052b6e"
      },
      "source": [
        "# this is the YAML file Roboflow wrote for us that we're loading into this notebook with our data\n",
        "%cat {dataset.location}/data.yaml"
      ],
      "execution_count": null,
      "outputs": [
        {
          "output_type": "stream",
          "name": "stdout",
          "text": [
            "names:\n",
            "- json\n",
            "nc: 1\n",
            "train: Kvasir-SEG-1/train/images\n",
            "val: Kvasir-SEG-1/valid/images\n"
          ]
        }
      ]
    },
    {
      "cell_type": "markdown",
      "metadata": {
        "id": "UwJx-2NHsYxT"
      },
      "source": [
        "#Inspect Model Configuration and Architecture\n",
        "\n",
        "Let's look at the Scaled-YOLOv4 Configuration architecture"
      ]
    },
    {
      "cell_type": "code",
      "metadata": {
        "colab": {
          "base_uri": "https://localhost:8080/"
        },
        "id": "SVoXUNKtHHMj",
        "outputId": "38f3c1f4-109a-40cd-b173-37409a4a1a30"
      },
      "source": [
        "%cat /content/ScaledYOLOv4/models/yolov4-csp.yaml"
      ],
      "execution_count": null,
      "outputs": [
        {
          "output_type": "stream",
          "name": "stdout",
          "text": [
            "# parameters\n",
            "nc: 80  # number of classes\n",
            "depth_multiple: 1.0  # model depth multiple\n",
            "width_multiple: 1.0  # layer channel multiple\n",
            "\n",
            "# anchors\n",
            "anchors:\n",
            "  - [12,16, 19,36, 40,28]  # P3/8\n",
            "  - [36,75, 76,55, 72,146]  # P4/16\n",
            "  - [142,110, 192,243, 459,401]  # P5/32\n",
            "\n",
            "# yolov4-csp backbone\n",
            "backbone:\n",
            "  # [from, number, module, args]\n",
            "  [[-1, 1, Conv, [32, 3, 1]],  # 0\n",
            "   [-1, 1, Conv, [64, 3, 2]],  # 1-P1/2\n",
            "   [-1, 1, Bottleneck, [64]],\n",
            "   [-1, 1, Conv, [128, 3, 2]],  # 3-P2/4\n",
            "   [-1, 2, BottleneckCSP, [128]],\n",
            "   [-1, 1, Conv, [256, 3, 2]],  # 5-P3/8\n",
            "   [-1, 8, BottleneckCSP, [256]],\n",
            "   [-1, 1, Conv, [512, 3, 2]],  # 7-P4/16\n",
            "   [-1, 8, BottleneckCSP, [512]],\n",
            "   [-1, 1, Conv, [1024, 3, 2]], # 9-P5/32\n",
            "   [-1, 4, BottleneckCSP, [1024]],  # 10\n",
            "  ]\n",
            "\n",
            "# yolov4-csp head\n",
            "# na = len(anchors[0])\n",
            "head:\n",
            "  [[-1, 1, SPPCSP, [512]], # 11\n",
            "   [-1, 1, Conv, [256, 1, 1]],\n",
            "   [-1, 1, nn.Upsample, [None, 2, 'nearest']],\n",
            "   [8, 1, Conv, [256, 1, 1]], # route backbone P4\n",
            "   [[-1, -2], 1, Concat, [1]],\n",
            "   [-1, 2, BottleneckCSP2, [256]], # 16 \n",
            "   [-1, 1, Conv, [128, 1, 1]],\n",
            "   [-1, 1, nn.Upsample, [None, 2, 'nearest']],\n",
            "   [6, 1, Conv, [128, 1, 1]], # route backbone P3\n",
            "   [[-1, -2], 1, Concat, [1]],\n",
            "   [-1, 2, BottleneckCSP2, [128]], # 21\n",
            "   [-1, 1, Conv, [256, 3, 1]],\n",
            "   [-2, 1, Conv, [256, 3, 2]],\n",
            "   [[-1, 16], 1, Concat, [1]],  # cat\n",
            "   [-1, 2, BottleneckCSP2, [256]], # 25\n",
            "   [-1, 1, Conv, [512, 3, 1]],\n",
            "   [-2, 1, Conv, [512, 3, 2]],\n",
            "   [[-1, 11], 1, Concat, [1]],  # cat\n",
            "   [-1, 2, BottleneckCSP2, [512]], # 29\n",
            "   [-1, 1, Conv, [1024, 3, 1]],\n",
            "\n",
            "   [[22,26,30], 1, Detect, [nc, anchors]],   # Detect(P3, P4, P5)\n",
            "  ]\n"
          ]
        }
      ]
    },
    {
      "cell_type": "markdown",
      "metadata": {
        "id": "VUOiNLtMP5aG"
      },
      "source": [
        "# Train Custom Scaled-YOLOv4 Detector\n",
        "\n",
        "### Next, we'll fire off training!\n",
        "\n",
        "\n",
        "Here, we are able to pass a number of arguments:\n",
        "- **img:** define input image size\n",
        "- **batch:** determine batch size\n",
        "- **epochs:** define the number of training epochs. (Note: often, 3000+ are common here!)\n",
        "- **data:** set the path to our yaml file\n",
        "- **cfg:** specify our model configuration\n",
        "- **weights:** specify a custom path to weights.\n",
        "- **name:** result names\n",
        "- **nosave:** only save the final checkpoint\n",
        "- **cache:** cache images for faster training"
      ]
    },
    {
      "cell_type": "code",
      "metadata": {
        "colab": {
          "base_uri": "https://localhost:8080/"
        },
        "id": "1NcFxRcFdJ_O",
        "outputId": "d09c9189-89b0-4004-ed00-f23fe5eca9d3"
      },
      "source": [
        "# train scaled-YOLOv4 on custom data for 100 epochs\n",
        "# time its performance \n",
        "%%time\n",
        "%cd /content/ScaledYOLOv4/\n",
        "%cd /content/\n",
        "!python ScaledYOLOv4/train.py --img 416 --batch 16 --epochs 100 --data {dataset.location}/data.yaml --cfg ./models/yolov4-csp.yaml --weights '' --name yolov4-csp-results  --cache"
      ],
      "execution_count": null,
      "outputs": [
        {
          "output_type": "stream",
          "name": "stdout",
          "text": [
            "/content/ScaledYOLOv4\n",
            "/content\n",
            "Using CUDA device0 _CudaDeviceProperties(name='Tesla T4', total_memory=15109MB)\n",
            "\n",
            "Namespace(adam=False, batch_size=16, bucket='', cache_images=True, cfg='./ScaledYOLOv4/./models/yolov4-csp.yaml', data='/content/Kvasir-SEG-1/data.yaml', device='', epochs=100, evolve=False, global_rank=-1, hyp='./ScaledYOLOv4/data/hyp.scratch.yaml', img_size=[416, 416], local_rank=-1, logdir='runs/', multi_scale=False, name='yolov4-csp-results', noautoanchor=False, nosave=False, notest=False, rect=False, resume=False, single_cls=False, sync_bn=False, total_batch_size=16, weights='', world_size=1)\n",
            "Start Tensorboard with \"tensorboard --logdir runs/\", view at http://localhost:6006/\n",
            "Hyperparameters {'lr0': 0.01, 'momentum': 0.937, 'weight_decay': 0.0005, 'giou': 0.05, 'cls': 0.5, 'cls_pw': 1.0, 'obj': 1.0, 'obj_pw': 1.0, 'iou_t': 0.2, 'anchor_t': 4.0, 'fl_gamma': 0.0, 'hsv_h': 0.015, 'hsv_s': 0.7, 'hsv_v': 0.4, 'degrees': 0.0, 'translate': 0.5, 'scale': 0.5, 'shear': 0.0, 'perspective': 0.0, 'flipud': 0.0, 'fliplr': 0.5, 'mixup': 0.0}\n",
            "Overriding ./ScaledYOLOv4/./models/yolov4-csp.yaml nc=80 with nc=1\n",
            "\n",
            "                 from  n    params  module                                  arguments                     \n",
            "  0                -1  1       928  models.common.Conv                      [3, 32, 3, 1]                 \n",
            "  1                -1  1     18560  models.common.Conv                      [32, 64, 3, 2]                \n",
            "  2                -1  1     20672  models.common.Bottleneck                [64, 64]                      \n",
            "  3                -1  1     73984  models.common.Conv                      [64, 128, 3, 2]               \n",
            "  4                -1  1    119936  models.common.BottleneckCSP             [128, 128, 2]                 \n",
            "  5                -1  1    295424  models.common.Conv                      [128, 256, 3, 2]              \n",
            "  6                -1  1   1463552  models.common.BottleneckCSP             [256, 256, 8]                 \n",
            "  7                -1  1   1180672  models.common.Conv                      [256, 512, 3, 2]              \n",
            "  8                -1  1   5843456  models.common.BottleneckCSP             [512, 512, 8]                 \n",
            "  9                -1  1   4720640  models.common.Conv                      [512, 1024, 3, 2]             \n",
            " 10                -1  1  12858368  models.common.BottleneckCSP             [1024, 1024, 4]               \n",
            " 11                -1  1   7610368  models.common.SPPCSP                    [1024, 512, 1]                \n",
            " 12                -1  1    131584  models.common.Conv                      [512, 256, 1, 1]              \n",
            " 13                -1  1         0  torch.nn.modules.upsampling.Upsample    [None, 2, 'nearest']          \n",
            " 14                 8  1    131584  models.common.Conv                      [512, 256, 1, 1]              \n",
            " 15          [-1, -2]  1         0  models.common.Concat                    [1]                           \n",
            " 16                -1  1   1642496  models.common.BottleneckCSP2            [512, 256, 2]                 \n",
            " 17                -1  1     33024  models.common.Conv                      [256, 128, 1, 1]              \n",
            " 18                -1  1         0  torch.nn.modules.upsampling.Upsample    [None, 2, 'nearest']          \n",
            " 19                 6  1     33024  models.common.Conv                      [256, 128, 1, 1]              \n",
            " 20          [-1, -2]  1         0  models.common.Concat                    [1]                           \n",
            " 21                -1  1    411648  models.common.BottleneckCSP2            [256, 128, 2]                 \n",
            " 22                -1  1    295424  models.common.Conv                      [128, 256, 3, 1]              \n",
            " 23                -2  1    295424  models.common.Conv                      [128, 256, 3, 2]              \n",
            " 24          [-1, 16]  1         0  models.common.Concat                    [1]                           \n",
            " 25                -1  1   1642496  models.common.BottleneckCSP2            [512, 256, 2]                 \n",
            " 26                -1  1   1180672  models.common.Conv                      [256, 512, 3, 1]              \n",
            " 27                -2  1   1180672  models.common.Conv                      [256, 512, 3, 2]              \n",
            " 28          [-1, 11]  1         0  models.common.Concat                    [1]                           \n",
            " 29                -1  1   6561792  models.common.BottleneckCSP2            [1024, 512, 2]                \n",
            " 30                -1  1   4720640  models.common.Conv                      [512, 1024, 3, 1]             \n",
            " 31      [22, 26, 30]  1     32310  models.yolo.Detect                      [1, [[12, 16, 19, 36, 40, 28], [36, 75, 76, 55, 72, 146], [142, 110, 192, 243, 459, 401]], [256, 512, 1024]]\n",
            "Model Summary: 334 layers, 5.24994e+07 parameters, 5.24994e+07 gradients\n",
            "\n",
            "Optimizer groups: 111 .bias, 115 conv.weight, 108 other\n",
            "Scanning images: 100% 2100/2100 [00:00<00:00, 9008.96it/s]\n",
            "Scanning labels Kvasir-SEG-1/train/labels.cache (2100 found, 0 missing, 0 empty, 0 duplicate, for 2100 images): 100% 2100/2100 [00:00<00:00, 15492.93it/s]\n",
            "Caching images (1.1GB): 100% 2100/2100 [00:04<00:00, 461.56it/s]\n",
            "Scanning images: 100% 200/200 [00:00<00:00, 9637.65it/s]\n",
            "Scanning labels Kvasir-SEG-1/valid/labels.cache (200 found, 0 missing, 0 empty, 0 duplicate, for 200 images): 100% 200/200 [00:00<00:00, 16161.46it/s]\n",
            "Caching images (0.1GB): 100% 200/200 [00:00<00:00, 446.42it/s]\n",
            "\n",
            "Analyzing anchors... anchors/target = 4.77, Best Possible Recall (BPR) = 0.9964\n",
            "Image sizes 416 train, 416 test\n",
            "Using 2 dataloader workers\n",
            "Starting training for 100 epochs...\n",
            "\n",
            "     Epoch   gpu_mem      GIoU       obj       cls     total   targets  img_size\n",
            "      0/99     6.14G    0.0851   0.04376         0    0.1289         9       416: 100% 132/132 [01:01<00:00,  2.14it/s]\n",
            "               Class      Images     Targets           P           R      mAP@.5  mAP@.5:.95:   0% 0/13 [00:00<?, ?it/s]/usr/local/lib/python3.7/dist-packages/torch/functional.py:445: UserWarning: torch.meshgrid: in an upcoming release, it will be required to pass the indexing argument. (Triggered internally at  ../aten/src/ATen/native/TensorShape.cpp:2157.)\n",
            "  return _VF.meshgrid(tensors, **kwargs)  # type: ignore[attr-defined]\n",
            "               Class      Images     Targets           P           R      mAP@.5  mAP@.5:.95: 100% 13/13 [00:04<00:00,  2.82it/s]\n",
            "                 all         200         212           0           0      0.0122     0.00197\n",
            "\n",
            "     Epoch   gpu_mem      GIoU       obj       cls     total   targets  img_size\n",
            "      1/99     6.13G    0.0742   0.04574         0    0.1199         9       416: 100% 132/132 [00:53<00:00,  2.49it/s]\n",
            "               Class      Images     Targets           P           R      mAP@.5  mAP@.5:.95: 100% 13/13 [00:02<00:00,  4.62it/s]\n",
            "                 all         200         212      0.0432      0.0236      0.0357     0.00647\n",
            "\n",
            "     Epoch   gpu_mem      GIoU       obj       cls     total   targets  img_size\n",
            "      2/99     6.13G    0.0674   0.04678         0    0.1142         8       416: 100% 132/132 [00:52<00:00,  2.49it/s]\n",
            "               Class      Images     Targets           P           R      mAP@.5  mAP@.5:.95: 100% 13/13 [00:02<00:00,  4.57it/s]\n",
            "                 all         200         212       0.147       0.429       0.148      0.0381\n",
            "\n",
            "     Epoch   gpu_mem      GIoU       obj       cls     total   targets  img_size\n",
            "      3/99     6.13G   0.06284   0.04553         0    0.1084         4       416: 100% 132/132 [00:53<00:00,  2.49it/s]\n",
            "               Class      Images     Targets           P           R      mAP@.5  mAP@.5:.95: 100% 13/13 [00:03<00:00,  4.23it/s]\n",
            "                 all         200         212      0.0369       0.255      0.0278     0.00637\n",
            "\n",
            "     Epoch   gpu_mem      GIoU       obj       cls     total   targets  img_size\n",
            "      4/99     6.13G   0.05953   0.04534         0    0.1049         4       416: 100% 132/132 [00:52<00:00,  2.51it/s]\n",
            "               Class      Images     Targets           P           R      mAP@.5  mAP@.5:.95: 100% 13/13 [00:02<00:00,  5.07it/s]\n",
            "                 all         200         212       0.198        0.67        0.39       0.133\n",
            "\n",
            "     Epoch   gpu_mem      GIoU       obj       cls     total   targets  img_size\n",
            "      5/99     6.13G   0.05604   0.04403         0    0.1001        10       416: 100% 132/132 [00:52<00:00,  2.50it/s]\n",
            "               Class      Images     Targets           P           R      mAP@.5  mAP@.5:.95: 100% 13/13 [00:02<00:00,  4.87it/s]\n",
            "                 all         200         212       0.176       0.764       0.394        0.14\n",
            "\n",
            "     Epoch   gpu_mem      GIoU       obj       cls     total   targets  img_size\n",
            "      6/99     6.13G   0.05219   0.04265         0   0.09484         5       416: 100% 132/132 [00:52<00:00,  2.50it/s]\n",
            "               Class      Images     Targets           P           R      mAP@.5  mAP@.5:.95: 100% 13/13 [00:02<00:00,  5.13it/s]\n",
            "                 all         200         212       0.183       0.792       0.367       0.166\n",
            "\n",
            "     Epoch   gpu_mem      GIoU       obj       cls     total   targets  img_size\n",
            "      7/99     6.13G   0.04989   0.04148         0   0.09136         8       416: 100% 132/132 [00:52<00:00,  2.51it/s]\n",
            "               Class      Images     Targets           P           R      mAP@.5  mAP@.5:.95: 100% 13/13 [00:02<00:00,  5.31it/s]\n",
            "                 all         200         212        0.27       0.759       0.598       0.274\n",
            "\n",
            "     Epoch   gpu_mem      GIoU       obj       cls     total   targets  img_size\n",
            "      8/99     6.13G   0.04742    0.0402         0   0.08762         8       416: 100% 132/132 [00:52<00:00,  2.51it/s]\n",
            "               Class      Images     Targets           P           R      mAP@.5  mAP@.5:.95: 100% 13/13 [00:02<00:00,  5.47it/s]\n",
            "                 all         200         212       0.318       0.873       0.741       0.405\n",
            "\n",
            "     Epoch   gpu_mem      GIoU       obj       cls     total   targets  img_size\n",
            "      9/99     6.13G   0.04412   0.03935         0   0.08347         8       416: 100% 132/132 [00:52<00:00,  2.51it/s]\n",
            "               Class      Images     Targets           P           R      mAP@.5  mAP@.5:.95: 100% 13/13 [00:02<00:00,  5.63it/s]\n",
            "                 all         200         212       0.386       0.844       0.781       0.425\n",
            "\n",
            "     Epoch   gpu_mem      GIoU       obj       cls     total   targets  img_size\n",
            "     10/99     6.13G   0.04215   0.03795         0    0.0801         9       416: 100% 132/132 [00:52<00:00,  2.51it/s]\n",
            "               Class      Images     Targets           P           R      mAP@.5  mAP@.5:.95: 100% 13/13 [00:02<00:00,  5.21it/s]\n",
            "                 all         200         212       0.429       0.811       0.751        0.43\n",
            "\n",
            "     Epoch   gpu_mem      GIoU       obj       cls     total   targets  img_size\n",
            "     11/99     6.13G   0.04125    0.0382         0   0.07945         5       416: 100% 132/132 [00:52<00:00,  2.51it/s]\n",
            "               Class      Images     Targets           P           R      mAP@.5  mAP@.5:.95: 100% 13/13 [00:02<00:00,  5.59it/s]\n",
            "                 all         200         212       0.428       0.915       0.827       0.471\n",
            "\n",
            "     Epoch   gpu_mem      GIoU       obj       cls     total   targets  img_size\n",
            "     12/99     6.13G   0.04026   0.03717         0   0.07743         7       416: 100% 132/132 [00:52<00:00,  2.50it/s]\n",
            "               Class      Images     Targets           P           R      mAP@.5  mAP@.5:.95: 100% 13/13 [00:02<00:00,  5.80it/s]\n",
            "                 all         200         212       0.506       0.877       0.817       0.456\n",
            "\n",
            "     Epoch   gpu_mem      GIoU       obj       cls     total   targets  img_size\n",
            "     13/99     6.13G   0.03964   0.03622         0   0.07586         8       416: 100% 132/132 [00:52<00:00,  2.50it/s]\n",
            "               Class      Images     Targets           P           R      mAP@.5  mAP@.5:.95: 100% 13/13 [00:02<00:00,  5.72it/s]\n",
            "                 all         200         212        0.47       0.873       0.796        0.45\n",
            "\n",
            "     Epoch   gpu_mem      GIoU       obj       cls     total   targets  img_size\n",
            "     14/99     6.13G   0.03964   0.03583         0   0.07547         4       416: 100% 132/132 [00:52<00:00,  2.50it/s]\n",
            "               Class      Images     Targets           P           R      mAP@.5  mAP@.5:.95: 100% 13/13 [00:02<00:00,  5.78it/s]\n",
            "                 all         200         212         0.4        0.84       0.761       0.436\n",
            "\n",
            "     Epoch   gpu_mem      GIoU       obj       cls     total   targets  img_size\n",
            "     15/99     6.13G   0.03805    0.0351         0   0.07315         4       416: 100% 132/132 [00:52<00:00,  2.50it/s]\n",
            "               Class      Images     Targets           P           R      mAP@.5  mAP@.5:.95: 100% 13/13 [00:02<00:00,  5.72it/s]\n",
            "                 all         200         212       0.459       0.858       0.825       0.479\n",
            "\n",
            "     Epoch   gpu_mem      GIoU       obj       cls     total   targets  img_size\n",
            "     16/99     6.13G   0.03643   0.03523         0   0.07167         4       416: 100% 132/132 [00:52<00:00,  2.50it/s]\n",
            "               Class      Images     Targets           P           R      mAP@.5  mAP@.5:.95: 100% 13/13 [00:02<00:00,  5.75it/s]\n",
            "                 all         200         212       0.485       0.896       0.832       0.546\n",
            "\n",
            "     Epoch   gpu_mem      GIoU       obj       cls     total   targets  img_size\n",
            "     17/99     6.13G   0.03636   0.03503         0   0.07139         5       416: 100% 132/132 [00:52<00:00,  2.51it/s]\n",
            "               Class      Images     Targets           P           R      mAP@.5  mAP@.5:.95: 100% 13/13 [00:02<00:00,  5.71it/s]\n",
            "                 all         200         212       0.489       0.858       0.834       0.523\n",
            "\n",
            "     Epoch   gpu_mem      GIoU       obj       cls     total   targets  img_size\n",
            "     18/99     6.13G   0.03567   0.03416         0   0.06982         7       416: 100% 132/132 [00:52<00:00,  2.51it/s]\n",
            "               Class      Images     Targets           P           R      mAP@.5  mAP@.5:.95: 100% 13/13 [00:02<00:00,  5.77it/s]\n",
            "                 all         200         212        0.54       0.868       0.835       0.528\n",
            "\n",
            "     Epoch   gpu_mem      GIoU       obj       cls     total   targets  img_size\n",
            "     19/99     6.13G    0.0349   0.03434         0   0.06924         6       416: 100% 132/132 [00:52<00:00,  2.51it/s]\n",
            "               Class      Images     Targets           P           R      mAP@.5  mAP@.5:.95: 100% 13/13 [00:02<00:00,  5.85it/s]\n",
            "                 all         200         212       0.526       0.896       0.839       0.509\n",
            "\n",
            "     Epoch   gpu_mem      GIoU       obj       cls     total   targets  img_size\n",
            "     20/99     6.13G   0.03374   0.03256         0    0.0663         5       416: 100% 132/132 [00:52<00:00,  2.51it/s]\n",
            "               Class      Images     Targets           P           R      mAP@.5  mAP@.5:.95: 100% 13/13 [00:02<00:00,  5.82it/s]\n",
            "                 all         200         212       0.557       0.882       0.843       0.534\n",
            "\n",
            "     Epoch   gpu_mem      GIoU       obj       cls     total   targets  img_size\n",
            "     21/99     6.13G   0.03408   0.03272         0    0.0668        10       416: 100% 132/132 [00:52<00:00,  2.51it/s]\n",
            "               Class      Images     Targets           P           R      mAP@.5  mAP@.5:.95: 100% 13/13 [00:02<00:00,  5.82it/s]\n",
            "                 all         200         212       0.434       0.901       0.849       0.523\n",
            "\n",
            "     Epoch   gpu_mem      GIoU       obj       cls     total   targets  img_size\n",
            "     22/99     6.13G   0.03337   0.03257         0   0.06594         7       416: 100% 132/132 [00:52<00:00,  2.51it/s]\n",
            "               Class      Images     Targets           P           R      mAP@.5  mAP@.5:.95: 100% 13/13 [00:02<00:00,  5.79it/s]\n",
            "                 all         200         212        0.45       0.877        0.81       0.511\n",
            "\n",
            "     Epoch   gpu_mem      GIoU       obj       cls     total   targets  img_size\n",
            "     23/99     6.13G   0.03219   0.03195         0   0.06414         6       416: 100% 132/132 [00:52<00:00,  2.50it/s]\n",
            "               Class      Images     Targets           P           R      mAP@.5  mAP@.5:.95: 100% 13/13 [00:02<00:00,  5.85it/s]\n",
            "                 all         200         212       0.561       0.882       0.838       0.486\n",
            "\n",
            "     Epoch   gpu_mem      GIoU       obj       cls     total   targets  img_size\n",
            "     24/99     6.13G   0.03291   0.03217         0   0.06508        10       416: 100% 132/132 [00:52<00:00,  2.49it/s]\n",
            "               Class      Images     Targets           P           R      mAP@.5  mAP@.5:.95: 100% 13/13 [00:02<00:00,  5.80it/s]\n",
            "                 all         200         212       0.598       0.873        0.86       0.527\n",
            "\n",
            "     Epoch   gpu_mem      GIoU       obj       cls     total   targets  img_size\n",
            "     25/99     6.13G    0.0325   0.03138         0   0.06388         6       416: 100% 132/132 [00:52<00:00,  2.51it/s]\n",
            "               Class      Images     Targets           P           R      mAP@.5  mAP@.5:.95: 100% 13/13 [00:02<00:00,  5.88it/s]\n",
            "                 all         200         212       0.515       0.892       0.838       0.498\n",
            "\n",
            "     Epoch   gpu_mem      GIoU       obj       cls     total   targets  img_size\n",
            "     26/99     6.13G   0.03209   0.03134         0   0.06343         5       416: 100% 132/132 [00:52<00:00,  2.50it/s]\n",
            "               Class      Images     Targets           P           R      mAP@.5  mAP@.5:.95: 100% 13/13 [00:02<00:00,  5.84it/s]\n",
            "                 all         200         212       0.566       0.887       0.845       0.508\n",
            "\n",
            "     Epoch   gpu_mem      GIoU       obj       cls     total   targets  img_size\n",
            "     27/99     6.13G    0.0312   0.03133         0   0.06253         5       416: 100% 132/132 [00:52<00:00,  2.50it/s]\n",
            "               Class      Images     Targets           P           R      mAP@.5  mAP@.5:.95: 100% 13/13 [00:02<00:00,  5.87it/s]\n",
            "                 all         200         212        0.57       0.868       0.858       0.567\n",
            "\n",
            "     Epoch   gpu_mem      GIoU       obj       cls     total   targets  img_size\n",
            "     28/99     6.13G   0.03155   0.03126         0   0.06281         5       416: 100% 132/132 [00:52<00:00,  2.50it/s]\n",
            "               Class      Images     Targets           P           R      mAP@.5  mAP@.5:.95: 100% 13/13 [00:02<00:00,  5.83it/s]\n",
            "                 all         200         212        0.62       0.877       0.867       0.583\n",
            "\n",
            "     Epoch   gpu_mem      GIoU       obj       cls     total   targets  img_size\n",
            "     29/99     6.13G   0.03055   0.03083         0   0.06138         5       416: 100% 132/132 [00:52<00:00,  2.51it/s]\n",
            "               Class      Images     Targets           P           R      mAP@.5  mAP@.5:.95: 100% 13/13 [00:02<00:00,  5.89it/s]\n",
            "                 all         200         212       0.562       0.882       0.858       0.547\n",
            "\n",
            "     Epoch   gpu_mem      GIoU       obj       cls     total   targets  img_size\n",
            "     30/99     6.13G   0.03153   0.03022         0   0.06175         7       416: 100% 132/132 [00:52<00:00,  2.50it/s]\n",
            "               Class      Images     Targets           P           R      mAP@.5  mAP@.5:.95: 100% 13/13 [00:02<00:00,  5.91it/s]\n",
            "                 all         200         212       0.616        0.91       0.866       0.574\n",
            "\n",
            "     Epoch   gpu_mem      GIoU       obj       cls     total   targets  img_size\n",
            "     31/99     6.13G   0.03015   0.02972         0   0.05986         8       416: 100% 132/132 [00:52<00:00,  2.49it/s]\n",
            "               Class      Images     Targets           P           R      mAP@.5  mAP@.5:.95: 100% 13/13 [00:02<00:00,  5.92it/s]\n",
            "                 all         200         212       0.621       0.892       0.881       0.507\n",
            "\n",
            "     Epoch   gpu_mem      GIoU       obj       cls     total   targets  img_size\n",
            "     32/99     6.13G   0.03006   0.02963         0   0.05969         6       416: 100% 132/132 [00:52<00:00,  2.50it/s]\n",
            "               Class      Images     Targets           P           R      mAP@.5  mAP@.5:.95: 100% 13/13 [00:02<00:00,  5.83it/s]\n",
            "                 all         200         212       0.583       0.887       0.851        0.54\n",
            "\n",
            "     Epoch   gpu_mem      GIoU       obj       cls     total   targets  img_size\n",
            "     33/99     6.13G   0.02966   0.03037         0   0.06003         6       416: 100% 132/132 [00:52<00:00,  2.50it/s]\n",
            "               Class      Images     Targets           P           R      mAP@.5  mAP@.5:.95: 100% 13/13 [00:02<00:00,  5.94it/s]\n",
            "                 all         200         212       0.648       0.877       0.856       0.565\n",
            "\n",
            "     Epoch   gpu_mem      GIoU       obj       cls     total   targets  img_size\n",
            "     34/99     6.13G   0.02963   0.02993         0   0.05956        12       416: 100% 132/132 [00:52<00:00,  2.50it/s]\n",
            "               Class      Images     Targets           P           R      mAP@.5  mAP@.5:.95: 100% 13/13 [00:02<00:00,  5.78it/s]\n",
            "                 all         200         212       0.598       0.901       0.877       0.587\n",
            "\n",
            "     Epoch   gpu_mem      GIoU       obj       cls     total   targets  img_size\n",
            "     35/99     6.13G   0.02949   0.02976         0   0.05925         7       416: 100% 132/132 [00:52<00:00,  2.51it/s]\n",
            "               Class      Images     Targets           P           R      mAP@.5  mAP@.5:.95: 100% 13/13 [00:02<00:00,  5.87it/s]\n",
            "                 all         200         212       0.568       0.901       0.868       0.594\n",
            "\n",
            "     Epoch   gpu_mem      GIoU       obj       cls     total   targets  img_size\n",
            "     36/99     6.13G   0.02892   0.02927         0   0.05818         7       416: 100% 132/132 [00:52<00:00,  2.50it/s]\n",
            "               Class      Images     Targets           P           R      mAP@.5  mAP@.5:.95: 100% 13/13 [00:02<00:00,  5.96it/s]\n",
            "                 all         200         212       0.571       0.854        0.82       0.492\n",
            "\n",
            "     Epoch   gpu_mem      GIoU       obj       cls     total   targets  img_size\n",
            "     37/99     6.13G   0.02873   0.02865         0   0.05739         5       416: 100% 132/132 [00:52<00:00,  2.49it/s]\n",
            "               Class      Images     Targets           P           R      mAP@.5  mAP@.5:.95: 100% 13/13 [00:02<00:00,  5.92it/s]\n",
            "                 all         200         212       0.653       0.896       0.876       0.575\n",
            "\n",
            "     Epoch   gpu_mem      GIoU       obj       cls     total   targets  img_size\n",
            "     38/99     6.13G   0.02848   0.02874         0   0.05722         5       416: 100% 132/132 [00:52<00:00,  2.50it/s]\n",
            "               Class      Images     Targets           P           R      mAP@.5  mAP@.5:.95: 100% 13/13 [00:02<00:00,  5.89it/s]\n",
            "                 all         200         212       0.596       0.896       0.853        0.55\n",
            "\n",
            "     Epoch   gpu_mem      GIoU       obj       cls     total   targets  img_size\n",
            "     39/99     6.13G   0.02856   0.02956         0   0.05812         7       416: 100% 132/132 [00:52<00:00,  2.50it/s]\n",
            "               Class      Images     Targets           P           R      mAP@.5  mAP@.5:.95: 100% 13/13 [00:02<00:00,  5.97it/s]\n",
            "                 all         200         212       0.649       0.915       0.878       0.564\n",
            "\n",
            "     Epoch   gpu_mem      GIoU       obj       cls     total   targets  img_size\n",
            "     40/99     6.13G   0.02851   0.02927         0   0.05778         6       416: 100% 132/132 [00:52<00:00,  2.50it/s]\n",
            "               Class      Images     Targets           P           R      mAP@.5  mAP@.5:.95: 100% 13/13 [00:02<00:00,  5.92it/s]\n",
            "                 all         200         212       0.634       0.901       0.889       0.613\n",
            "\n",
            "     Epoch   gpu_mem      GIoU       obj       cls     total   targets  img_size\n",
            "     41/99     6.13G   0.02801   0.02834         0   0.05634         8       416: 100% 132/132 [00:52<00:00,  2.49it/s]\n",
            "               Class      Images     Targets           P           R      mAP@.5  mAP@.5:.95: 100% 13/13 [00:02<00:00,  5.93it/s]\n",
            "                 all         200         212       0.662       0.873       0.872       0.555\n",
            "\n",
            "     Epoch   gpu_mem      GIoU       obj       cls     total   targets  img_size\n",
            "     42/99     6.13G   0.02724   0.02851         0   0.05576         6       416: 100% 132/132 [00:52<00:00,  2.50it/s]\n",
            "               Class      Images     Targets           P           R      mAP@.5  mAP@.5:.95: 100% 13/13 [00:02<00:00,  5.85it/s]\n",
            "                 all         200         212       0.624       0.887       0.875        0.55\n",
            "\n",
            "     Epoch   gpu_mem      GIoU       obj       cls     total   targets  img_size\n",
            "     43/99     6.13G   0.02719   0.02816         0   0.05535         5       416: 100% 132/132 [00:52<00:00,  2.50it/s]\n",
            "               Class      Images     Targets           P           R      mAP@.5  mAP@.5:.95: 100% 13/13 [00:02<00:00,  5.88it/s]\n",
            "                 all         200         212       0.652       0.882        0.88       0.584\n",
            "\n",
            "     Epoch   gpu_mem      GIoU       obj       cls     total   targets  img_size\n",
            "     44/99     6.13G   0.02757   0.02901         0   0.05658         7       416: 100% 132/132 [00:52<00:00,  2.50it/s]\n",
            "               Class      Images     Targets           P           R      mAP@.5  mAP@.5:.95: 100% 13/13 [00:02<00:00,  5.87it/s]\n",
            "                 all         200         212       0.653       0.869       0.865       0.524\n",
            "\n",
            "     Epoch   gpu_mem      GIoU       obj       cls     total   targets  img_size\n",
            "     45/99     6.13G    0.0272   0.02794         0   0.05514        11       416: 100% 132/132 [00:52<00:00,  2.50it/s]\n",
            "               Class      Images     Targets           P           R      mAP@.5  mAP@.5:.95: 100% 13/13 [00:02<00:00,  5.86it/s]\n",
            "                 all         200         212       0.648       0.877       0.879       0.523\n",
            "\n",
            "     Epoch   gpu_mem      GIoU       obj       cls     total   targets  img_size\n",
            "     46/99     6.13G   0.02675   0.02684         0   0.05359         7       416: 100% 132/132 [00:52<00:00,  2.50it/s]\n",
            "               Class      Images     Targets           P           R      mAP@.5  mAP@.5:.95: 100% 13/13 [00:02<00:00,  5.90it/s]\n",
            "                 all         200         212       0.651       0.887       0.873       0.543\n",
            "\n",
            "     Epoch   gpu_mem      GIoU       obj       cls     total   targets  img_size\n",
            "     47/99     6.13G   0.02656   0.02721         0   0.05377         5       416: 100% 132/132 [00:52<00:00,  2.50it/s]\n",
            "               Class      Images     Targets           P           R      mAP@.5  mAP@.5:.95: 100% 13/13 [00:02<00:00,  5.92it/s]\n",
            "                 all         200         212       0.662       0.887       0.881       0.579\n",
            "\n",
            "     Epoch   gpu_mem      GIoU       obj       cls     total   targets  img_size\n",
            "     48/99     6.13G   0.02647    0.0269         0   0.05337         5       416: 100% 132/132 [00:52<00:00,  2.50it/s]\n",
            "               Class      Images     Targets           P           R      mAP@.5  mAP@.5:.95: 100% 13/13 [00:02<00:00,  5.97it/s]\n",
            "                 all         200         212       0.605       0.873        0.87       0.549\n",
            "\n",
            "     Epoch   gpu_mem      GIoU       obj       cls     total   targets  img_size\n",
            "     49/99     6.13G   0.02624   0.02668         0   0.05291         7       416: 100% 132/132 [00:52<00:00,  2.50it/s]\n",
            "               Class      Images     Targets           P           R      mAP@.5  mAP@.5:.95: 100% 13/13 [00:02<00:00,  5.95it/s]\n",
            "                 all         200         212       0.738       0.863        0.88       0.569\n",
            "\n",
            "     Epoch   gpu_mem      GIoU       obj       cls     total   targets  img_size\n",
            "     50/99     6.13G   0.02577   0.02645         0   0.05222         3       416: 100% 132/132 [00:52<00:00,  2.50it/s]\n",
            "               Class      Images     Targets           P           R      mAP@.5  mAP@.5:.95: 100% 13/13 [00:02<00:00,  5.88it/s]\n",
            "                 all         200         212       0.683       0.882       0.871       0.576\n",
            "\n",
            "     Epoch   gpu_mem      GIoU       obj       cls     total   targets  img_size\n",
            "     51/99     6.13G   0.02552   0.02626         0   0.05178         7       416: 100% 132/132 [00:52<00:00,  2.50it/s]\n",
            "               Class      Images     Targets           P           R      mAP@.5  mAP@.5:.95: 100% 13/13 [00:02<00:00,  5.98it/s]\n",
            "                 all         200         212       0.671       0.887       0.876       0.555\n",
            "\n",
            "     Epoch   gpu_mem      GIoU       obj       cls     total   targets  img_size\n",
            "     52/99     6.13G   0.02581   0.02673         0   0.05255         7       416: 100% 132/132 [00:52<00:00,  2.50it/s]\n",
            "               Class      Images     Targets           P           R      mAP@.5  mAP@.5:.95: 100% 13/13 [00:02<00:00,  5.99it/s]\n",
            "                 all         200         212       0.701       0.887       0.893       0.589\n",
            "\n",
            "     Epoch   gpu_mem      GIoU       obj       cls     total   targets  img_size\n",
            "     53/99     6.13G   0.02538   0.02648         0   0.05186         7       416: 100% 132/132 [00:52<00:00,  2.49it/s]\n",
            "               Class      Images     Targets           P           R      mAP@.5  mAP@.5:.95: 100% 13/13 [00:02<00:00,  5.88it/s]\n",
            "                 all         200         212       0.636       0.888       0.874       0.576\n",
            "\n",
            "     Epoch   gpu_mem      GIoU       obj       cls     total   targets  img_size\n",
            "     54/99     6.13G    0.0251   0.02604         0   0.05114         5       416: 100% 132/132 [00:53<00:00,  2.49it/s]\n",
            "               Class      Images     Targets           P           R      mAP@.5  mAP@.5:.95: 100% 13/13 [00:02<00:00,  5.93it/s]\n",
            "                 all         200         212       0.685       0.892       0.881       0.585\n",
            "\n",
            "     Epoch   gpu_mem      GIoU       obj       cls     total   targets  img_size\n",
            "     55/99     6.13G   0.02507   0.02641         0   0.05149         5       416: 100% 132/132 [00:52<00:00,  2.50it/s]\n",
            "               Class      Images     Targets           P           R      mAP@.5  mAP@.5:.95: 100% 13/13 [00:02<00:00,  5.85it/s]\n",
            "                 all         200         212       0.682       0.877       0.884       0.582\n",
            "\n",
            "     Epoch   gpu_mem      GIoU       obj       cls     total   targets  img_size\n",
            "     56/99     6.13G   0.02483   0.02517         0      0.05         5       416: 100% 132/132 [00:52<00:00,  2.49it/s]\n",
            "               Class      Images     Targets           P           R      mAP@.5  mAP@.5:.95: 100% 13/13 [00:02<00:00,  5.97it/s]\n",
            "                 all         200         212       0.675       0.882       0.875       0.565\n",
            "\n",
            "     Epoch   gpu_mem      GIoU       obj       cls     total   targets  img_size\n",
            "     57/99     6.13G   0.02406   0.02571         0   0.04977         6       416: 100% 132/132 [00:52<00:00,  2.50it/s]\n",
            "               Class      Images     Targets           P           R      mAP@.5  mAP@.5:.95: 100% 13/13 [00:02<00:00,  5.98it/s]\n",
            "                 all         200         212        0.64       0.858       0.864        0.56\n",
            "\n",
            "     Epoch   gpu_mem      GIoU       obj       cls     total   targets  img_size\n",
            "     58/99     6.13G   0.02419   0.02581         0      0.05         7       416: 100% 132/132 [00:52<00:00,  2.50it/s]\n",
            "               Class      Images     Targets           P           R      mAP@.5  mAP@.5:.95: 100% 13/13 [00:02<00:00,  5.91it/s]\n",
            "                 all         200         212       0.643       0.887       0.873       0.577\n",
            "\n",
            "     Epoch   gpu_mem      GIoU       obj       cls     total   targets  img_size\n",
            "     59/99     6.13G   0.02402    0.0254         0   0.04942         6       416: 100% 132/132 [00:52<00:00,  2.50it/s]\n",
            "               Class      Images     Targets           P           R      mAP@.5  mAP@.5:.95: 100% 13/13 [00:02<00:00,  5.97it/s]\n",
            "                 all         200         212        0.65       0.896       0.885       0.598\n",
            "\n",
            "     Epoch   gpu_mem      GIoU       obj       cls     total   targets  img_size\n",
            "     60/99     6.13G   0.02422    0.0259         0   0.05012         5       416: 100% 132/132 [00:53<00:00,  2.48it/s]\n",
            "               Class      Images     Targets           P           R      mAP@.5  mAP@.5:.95: 100% 13/13 [00:02<00:00,  5.90it/s]\n",
            "                 all         200         212       0.688       0.892       0.886        0.59\n",
            "\n",
            "     Epoch   gpu_mem      GIoU       obj       cls     total   targets  img_size\n",
            "     61/99     6.13G    0.0237   0.02432         0   0.04802         7       416: 100% 132/132 [00:53<00:00,  2.49it/s]\n",
            "               Class      Images     Targets           P           R      mAP@.5  mAP@.5:.95: 100% 13/13 [00:02<00:00,  6.00it/s]\n",
            "                 all         200         212       0.678       0.868       0.877       0.609\n",
            "\n",
            "     Epoch   gpu_mem      GIoU       obj       cls     total   targets  img_size\n",
            "     62/99     6.13G   0.02375   0.02521         0   0.04896         7       416: 100% 132/132 [00:52<00:00,  2.49it/s]\n",
            "               Class      Images     Targets           P           R      mAP@.5  mAP@.5:.95: 100% 13/13 [00:02<00:00,  5.95it/s]\n",
            "                 all         200         212       0.717       0.896       0.885       0.594\n",
            "\n",
            "     Epoch   gpu_mem      GIoU       obj       cls     total   targets  img_size\n",
            "     63/99     6.13G    0.0236   0.02476         0   0.04836         4       416: 100% 132/132 [00:53<00:00,  2.49it/s]\n",
            "               Class      Images     Targets           P           R      mAP@.5  mAP@.5:.95: 100% 13/13 [00:02<00:00,  5.92it/s]\n",
            "                 all         200         212       0.704       0.882       0.882       0.595\n",
            "\n",
            "     Epoch   gpu_mem      GIoU       obj       cls     total   targets  img_size\n",
            "     64/99     6.13G   0.02329   0.02475         0   0.04805        10       416: 100% 132/132 [00:53<00:00,  2.49it/s]\n",
            "               Class      Images     Targets           P           R      mAP@.5  mAP@.5:.95: 100% 13/13 [00:02<00:00,  5.91it/s]\n",
            "                 all         200         212       0.696       0.892        0.89       0.589\n",
            "\n",
            "     Epoch   gpu_mem      GIoU       obj       cls     total   targets  img_size\n",
            "     65/99     6.13G   0.02291   0.02424         0   0.04715         8       416: 100% 132/132 [00:53<00:00,  2.48it/s]\n",
            "               Class      Images     Targets           P           R      mAP@.5  mAP@.5:.95: 100% 13/13 [00:02<00:00,  5.90it/s]\n",
            "                 all         200         212       0.668       0.892       0.881        0.57\n",
            "\n",
            "     Epoch   gpu_mem      GIoU       obj       cls     total   targets  img_size\n",
            "     66/99     6.13G   0.02265   0.02486         0   0.04751         9       416: 100% 132/132 [00:53<00:00,  2.48it/s]\n",
            "               Class      Images     Targets           P           R      mAP@.5  mAP@.5:.95: 100% 13/13 [00:02<00:00,  5.86it/s]\n",
            "                 all         200         212       0.695       0.863       0.861       0.563\n",
            "\n",
            "     Epoch   gpu_mem      GIoU       obj       cls     total   targets  img_size\n",
            "     67/99     6.13G   0.02254   0.02386         0    0.0464         6       416: 100% 132/132 [00:53<00:00,  2.48it/s]\n",
            "               Class      Images     Targets           P           R      mAP@.5  mAP@.5:.95: 100% 13/13 [00:02<00:00,  5.86it/s]\n",
            "                 all         200         212       0.679       0.863       0.863       0.551\n",
            "\n",
            "     Epoch   gpu_mem      GIoU       obj       cls     total   targets  img_size\n",
            "     68/99     6.13G   0.02257   0.02341         0   0.04598         7       416: 100% 132/132 [00:53<00:00,  2.48it/s]\n",
            "               Class      Images     Targets           P           R      mAP@.5  mAP@.5:.95: 100% 13/13 [00:02<00:00,  5.93it/s]\n",
            "                 all         200         212       0.716       0.892       0.896       0.599\n",
            "\n",
            "     Epoch   gpu_mem      GIoU       obj       cls     total   targets  img_size\n",
            "     69/99     6.13G    0.0225   0.02419         0   0.04669         6       416: 100% 132/132 [00:52<00:00,  2.49it/s]\n",
            "               Class      Images     Targets           P           R      mAP@.5  mAP@.5:.95: 100% 13/13 [00:02<00:00,  5.96it/s]\n",
            "                 all         200         212       0.707       0.877       0.887       0.584\n",
            "\n",
            "     Epoch   gpu_mem      GIoU       obj       cls     total   targets  img_size\n",
            "     70/99     6.13G   0.02228   0.02362         0   0.04591         5       416: 100% 132/132 [00:53<00:00,  2.49it/s]\n",
            "               Class      Images     Targets           P           R      mAP@.5  mAP@.5:.95: 100% 13/13 [00:02<00:00,  5.94it/s]\n",
            "                 all         200         212       0.712       0.877       0.865       0.573\n",
            "\n",
            "     Epoch   gpu_mem      GIoU       obj       cls     total   targets  img_size\n",
            "     71/99     6.13G   0.02197   0.02336         0   0.04533         7       416: 100% 132/132 [00:52<00:00,  2.49it/s]\n",
            "               Class      Images     Targets           P           R      mAP@.5  mAP@.5:.95: 100% 13/13 [00:02<00:00,  6.01it/s]\n",
            "                 all         200         212        0.75       0.892       0.883       0.583\n",
            "\n",
            "     Epoch   gpu_mem      GIoU       obj       cls     total   targets  img_size\n",
            "     72/99     6.13G    0.0221   0.02308         0   0.04518         7       416: 100% 132/132 [00:53<00:00,  2.49it/s]\n",
            "               Class      Images     Targets           P           R      mAP@.5  mAP@.5:.95: 100% 13/13 [00:02<00:00,  5.99it/s]\n",
            "                 all         200         212       0.717       0.901       0.893       0.579\n",
            "\n",
            "     Epoch   gpu_mem      GIoU       obj       cls     total   targets  img_size\n",
            "     73/99     6.13G   0.02212   0.02328         0    0.0454        28       416:  44% 58/132 [00:23<00:29,  2.49it/s]"
          ]
        }
      ]
    },
    {
      "cell_type": "markdown",
      "metadata": {
        "id": "kJVs_4zEeVbF"
      },
      "source": [
        "# Evaluate Custom Scaled-YOLOv4 Detector Performance"
      ]
    },
    {
      "cell_type": "markdown",
      "metadata": {
        "id": "7KN5ghjE6ZWh"
      },
      "source": [
        "Training losses and performance metrics are saved to Tensorboard and also to a logfile defined above with the **--name** flag when we train. In our case, we named this `yolov5s_results`. (If given no name, it defaults to `results.txt`.) The results file is plotted as a png after training completes.\n",
        "\n",
        "Note from Glenn: Partially completed `results.txt` files can be plotted with `from utils.utils import plot_results; plot_results()`."
      ]
    },
    {
      "cell_type": "code",
      "metadata": {
        "id": "bOy5KI2ncnWd"
      },
      "source": [
        "# Start tensorboard\n",
        "# Launch after you have started training\n",
        "# logs save in the folder \"runs\"\n",
        "%load_ext tensorboard\n",
        "%tensorboard --logdir runs"
      ],
      "execution_count": null,
      "outputs": []
    },
    {
      "cell_type": "code",
      "metadata": {
        "id": "C60XAsyv6OPe"
      },
      "source": [
        "# we can also output some older school graphs if the tensor board isn't working for whatever reason... \n",
        "#from utils.general import plot_results  # plot results.txt as results.png\n",
        "from IPython.display import Image, display\n",
        "display(Image('/content/ScaledYOLOv4/runs/exp0_yolov4-csp-results/results.png'))  # view results.png"
      ],
      "execution_count": null,
      "outputs": []
    },
    {
      "cell_type": "markdown",
      "metadata": {
        "id": "DLI1JmHU7B0l"
      },
      "source": [
        "### Curious? Visualize Our Training Data with Labels\n",
        "\n",
        "After training starts, view `train*.jpg` images to see training images, labels and augmentation effects.\n",
        "\n",
        "Note a mosaic dataloader is used for training (shown below), a new dataloading concept developed by Glenn Jocher and first featured in [YOLOv4](https://arxiv.org/abs/2004.10934)."
      ]
    },
    {
      "cell_type": "code",
      "metadata": {
        "id": "PF9MLHDb7tB6"
      },
      "source": [
        "# first, display our ground truth data\n",
        "print(\"GROUND TRUTH TRAINING DATA:\")\n",
        "Image(filename='/content/ScaledYOLOv4/runs/exp0_yolov4-csp-results/test_batch0_gt.jpg', width=900)"
      ],
      "execution_count": null,
      "outputs": []
    },
    {
      "cell_type": "code",
      "metadata": {
        "id": "W40tI99_7BcH"
      },
      "source": [
        "# print out an augmented training example\n",
        "print(\"GROUND TRUTH AUGMENTED TRAINING DATA:\")\n",
        "Image(filename='/content/ScaledYOLOv4/runs/exp0_yolov4-csp-results/train_batch0.jpg', width=900)"
      ],
      "execution_count": null,
      "outputs": []
    },
    {
      "cell_type": "markdown",
      "metadata": {
        "id": "N3qM6T0W53gh"
      },
      "source": [
        "#Run Inference  With Trained Weights\n",
        "Run inference with a pretrained checkpoint on contents of `test/images` folder downloaded from Roboflow."
      ]
    },
    {
      "cell_type": "code",
      "metadata": {
        "id": "yIEwt5YLeQ7P"
      },
      "source": [
        "# trained weights are saved by default in our weights folder\n",
        "%ls runs/"
      ],
      "execution_count": null,
      "outputs": []
    },
    {
      "cell_type": "code",
      "metadata": {
        "id": "4SyOWS80qR32"
      },
      "source": [
        "%ls ./runs/exp0_yolov4-csp-results/weights"
      ],
      "execution_count": null,
      "outputs": []
    },
    {
      "cell_type": "markdown",
      "metadata": {
        "id": "rRhZmqhMqQtQ"
      },
      "source": [
        ""
      ]
    },
    {
      "cell_type": "code",
      "metadata": {
        "colab": {
          "base_uri": "https://localhost:8080/"
        },
        "id": "9nmZZnWOgJ2S",
        "outputId": "ccb8e9ee-d4b2-4490-a22b-2a0423139b9c"
      },
      "source": [
        "# when we ran this, we saw .007 second inference time. That is 140 FPS on a TESLA P100!\n",
        "# use the best weights!\n",
        "%cd /content/ScaledYOLOv4/\n",
        "!python detect.py --weights ./runs/exp0_yolov4-csp-results/weights/best_yolov4-csp-results.pt --img 416 --conf 0.4 --source ../test/images"
      ],
      "execution_count": null,
      "outputs": [
        {
          "output_type": "stream",
          "name": "stdout",
          "text": [
            "/content/ScaledYOLOv4\n",
            "Namespace(agnostic_nms=False, augment=False, classes=None, conf_thres=0.4, device='', img_size=416, iou_thres=0.5, output='inference/output', save_txt=False, source='../test/images', update=False, view_img=False, weights=['./runs/exp0_yolov4-csp-results/weights/best_yolov4-csp-results.pt'])\n",
            "Using CUDA device0 _CudaDeviceProperties(name='Tesla K80', total_memory=11441MB)\n",
            "\n",
            "Traceback (most recent call last):\n",
            "  File \"detect.py\", line 171, in <module>\n",
            "    detect()\n",
            "  File \"detect.py\", line 33, in detect\n",
            "    model = attempt_load(weights, map_location=device)  # load FP32 model\n",
            "  File \"/content/ScaledYOLOv4/models/experimental.py\", line 136, in attempt_load\n",
            "    attempt_download(w)\n",
            "  File \"/content/ScaledYOLOv4/utils/google_utils.py\", line 33, in attempt_download\n",
            "    raise Exception(msg)\n",
            "Exception: ./runs/exp0_yolov4-csp-results/weights/best_yolov4-csp-results.pt missing\n"
          ]
        }
      ]
    },
    {
      "cell_type": "code",
      "metadata": {
        "id": "odKEqYtTgbRc"
      },
      "source": [
        "#display inference on ALL test images\n",
        "#this looks much better with longer training above\n",
        "import glob\n",
        "from IPython.display import Image, display\n",
        "\n",
        "for imageName in glob.glob('./inference/output/*.jpg'): #assuming JPG\n",
        "    display(Image(filename=imageName))\n",
        "    print(\"\\n\")"
      ],
      "execution_count": null,
      "outputs": []
    },
    {
      "cell_type": "markdown",
      "metadata": {
        "id": "_uPq9mVgiBql"
      },
      "source": [
        "# Export Trained Weights for Future Inference\n",
        "\n",
        "Now that you have trained your custom detector, you can export the trained weights you have made here for inference on your device elsewhere"
      ]
    },
    {
      "cell_type": "code",
      "metadata": {
        "id": "YH4CTzDRh00g"
      },
      "source": [
        "from google.colab import files\n",
        "files.download('./runs/exp0_yolov4-csp-results/weights/best_yolov4-csp-results.pt')"
      ],
      "execution_count": null,
      "outputs": []
    },
    {
      "cell_type": "markdown",
      "metadata": {
        "id": "LVpCFeU-K4gb"
      },
      "source": [
        "## Congrats!\n",
        "\n",
        "Hope you enjoyed this!\n",
        "\n",
        "--Team [Roboflow](https://roboflow.ai)"
      ]
    }
  ]
}