{
  "nbformat": 4,
  "nbformat_minor": 0,
  "metadata": {
    "colab": {
      "name": "YOLOv3_VOC.ipynb",
      "provenance": [],
      "collapsed_sections": [],
      "authorship_tag": "ABX9TyPxsjPlKfgEvvMGZGUer5lh",
      "include_colab_link": true
    },
    "kernelspec": {
      "name": "python3",
      "display_name": "Python 3"
    },
    "language_info": {
      "name": "python"
    }
  },
  "cells": [
    {
      "cell_type": "markdown",
      "metadata": {
        "id": "view-in-github",
        "colab_type": "text"
      },
      "source": [
        "<a href=\"https://colab.research.google.com/github/pourmand1376/Polyp_detection/blob/main/YOLOv3_VOC.ipynb\" target=\"_parent\"><img src=\"https://colab.research.google.com/assets/colab-badge.svg\" alt=\"Open In Colab\"/></a>"
      ]
    },
    {
      "cell_type": "code",
      "source": [
        "!wget http://host.robots.ox.ac.uk/pascal/VOC/voc2012/VOCtrainval_11-May-2012.tar\n",
        "!tar -xf VOCtrainval_11-May-2012.tar"
      ],
      "metadata": {
        "colab": {
          "base_uri": "https://localhost:8080/"
        },
        "id": "pGFIBeaCkX0U",
        "outputId": "f46f5dd4-d434-4715-eaa6-7a0f8bded6b5"
      },
      "execution_count": 1,
      "outputs": [
        {
          "output_type": "stream",
          "name": "stdout",
          "text": [
            "--2022-05-30 11:22:52--  http://host.robots.ox.ac.uk/pascal/VOC/voc2012/VOCtrainval_11-May-2012.tar\n",
            "Resolving host.robots.ox.ac.uk (host.robots.ox.ac.uk)... 129.67.94.152\n",
            "Connecting to host.robots.ox.ac.uk (host.robots.ox.ac.uk)|129.67.94.152|:80... connected.\n",
            "HTTP request sent, awaiting response... 200 OK\n",
            "Length: 1999639040 (1.9G) [application/x-tar]\n",
            "Saving to: ‘VOCtrainval_11-May-2012.tar’\n",
            "\n",
            "VOCtrainval_11-May- 100%[===================>]   1.86G  20.4MB/s    in 94s     \n",
            "\n",
            "2022-05-30 11:24:26 (20.3 MB/s) - ‘VOCtrainval_11-May-2012.tar’ saved [1999639040/1999639040]\n",
            "\n"
          ]
        }
      ]
    },
    {
      "cell_type": "code",
      "source": [
        "!mkdir VOC\n",
        "!wget https://github.com/pjreddie/darknet/blob/master/data/voc.names --output-file VOC/voc.names "
      ],
      "metadata": {
        "id": "qyY-I7mVil3D"
      },
      "execution_count": 3,
      "outputs": []
    },
    {
      "cell_type": "code",
      "source": [
        "!git clone https://github.com/paulxiong/convert2Yolo"
      ],
      "metadata": {
        "colab": {
          "base_uri": "https://localhost:8080/"
        },
        "id": "8OqNySACjUVz",
        "outputId": "5ded88b5-7827-419c-bed3-d6ef5e7d6553"
      },
      "execution_count": 4,
      "outputs": [
        {
          "output_type": "stream",
          "name": "stdout",
          "text": [
            "Cloning into 'convert2Yolo'...\n",
            "remote: Enumerating objects: 221, done.\u001b[K\n",
            "remote: Counting objects: 100% (44/44), done.\u001b[K\n",
            "remote: Compressing objects: 100% (8/8), done.\u001b[K\n",
            "remote: Total 221 (delta 39), reused 36 (delta 36), pack-reused 177\u001b[K\n",
            "Receiving objects: 100% (221/221), 995.49 KiB | 3.19 MiB/s, done.\n",
            "Resolving deltas: 100% (96/96), done.\n"
          ]
        }
      ]
    },
    {
      "cell_type": "code",
      "source": [
        "!python3 /content/convert2Yolo/example.py --datasets VOC --img_path VOCdevkit/VOC2012/JPEGImages/ --label VOCdevkit/VOC2012/Annotations/ --convert_output_path YOLO/ --img_type \".jpg\" --manifest_path ./ --cls_list_file VOC/voc.names\n"
      ],
      "metadata": {
        "colab": {
          "base_uri": "https://localhost:8080/"
        },
        "id": "wRa9Q1wDWZY-",
        "outputId": "5ad7dd74-2611-4659-9340-226ee7103a83"
      },
      "execution_count": 5,
      "outputs": [
        {
          "output_type": "stream",
          "name": "stdout",
          "text": [
            "\n",
            "VOC Parsing:   |████████████████████████████████████████| 100.0% (17125/17125)  Complete\n",
            "\n",
            "\n",
            "YOLO Generating:|████████████████████████████████████████| 100.0% (17125/17125)  Complete\n",
            "\n",
            "\n",
            "YOLO Saving:   |████████████████████████████████████████| 100.0% (17125/17125)  Complete\n",
            "\n"
          ]
        }
      ]
    },
    {
      "cell_type": "code",
      "source": [
        ""
      ],
      "metadata": {
        "id": "ePilz44biRoT"
      },
      "execution_count": null,
      "outputs": []
    }
  ]
}